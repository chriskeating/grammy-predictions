{
 "cells": [
  {
   "cell_type": "markdown",
   "metadata": {},
   "source": [
    "### Import packages and data"
   ]
  },
  {
   "cell_type": "code",
   "execution_count": 1,
   "metadata": {},
   "outputs": [
    {
     "data": {
      "text/html": [
       "<div>\n",
       "<style scoped>\n",
       "    .dataframe tbody tr th:only-of-type {\n",
       "        vertical-align: middle;\n",
       "    }\n",
       "\n",
       "    .dataframe tbody tr th {\n",
       "        vertical-align: top;\n",
       "    }\n",
       "\n",
       "    .dataframe thead th {\n",
       "        text-align: right;\n",
       "    }\n",
       "</style>\n",
       "<table border=\"1\" class=\"dataframe\">\n",
       "  <thead>\n",
       "    <tr style=\"text-align: right;\">\n",
       "      <th></th>\n",
       "      <th>valence</th>\n",
       "      <th>year</th>\n",
       "      <th>acousticness</th>\n",
       "      <th>artists</th>\n",
       "      <th>danceability</th>\n",
       "      <th>duration_ms</th>\n",
       "      <th>energy</th>\n",
       "      <th>explicit</th>\n",
       "      <th>id</th>\n",
       "      <th>instrumentalness</th>\n",
       "      <th>key</th>\n",
       "      <th>liveness</th>\n",
       "      <th>loudness</th>\n",
       "      <th>mode</th>\n",
       "      <th>name</th>\n",
       "      <th>popularity</th>\n",
       "      <th>release_date</th>\n",
       "      <th>speechiness</th>\n",
       "      <th>tempo</th>\n",
       "    </tr>\n",
       "  </thead>\n",
       "  <tbody>\n",
       "    <tr>\n",
       "      <th>0</th>\n",
       "      <td>0.0594</td>\n",
       "      <td>1921</td>\n",
       "      <td>0.982</td>\n",
       "      <td>['Sergei Rachmaninoff', 'James Levine', 'Berli...</td>\n",
       "      <td>0.279</td>\n",
       "      <td>831667</td>\n",
       "      <td>0.211</td>\n",
       "      <td>0</td>\n",
       "      <td>4BJqT0PrAfrxzMOxytFOIz</td>\n",
       "      <td>0.878000</td>\n",
       "      <td>10</td>\n",
       "      <td>0.665</td>\n",
       "      <td>-20.096</td>\n",
       "      <td>1</td>\n",
       "      <td>Piano Concerto No. 3 in D Minor, Op. 30: III. ...</td>\n",
       "      <td>4</td>\n",
       "      <td>1921</td>\n",
       "      <td>0.0366</td>\n",
       "      <td>80.954</td>\n",
       "    </tr>\n",
       "    <tr>\n",
       "      <th>1</th>\n",
       "      <td>0.9630</td>\n",
       "      <td>1921</td>\n",
       "      <td>0.732</td>\n",
       "      <td>['Dennis Day']</td>\n",
       "      <td>0.819</td>\n",
       "      <td>180533</td>\n",
       "      <td>0.341</td>\n",
       "      <td>0</td>\n",
       "      <td>7xPhfUan2yNtyFG0cUWkt8</td>\n",
       "      <td>0.000000</td>\n",
       "      <td>7</td>\n",
       "      <td>0.160</td>\n",
       "      <td>-12.441</td>\n",
       "      <td>1</td>\n",
       "      <td>Clancy Lowered the Boom</td>\n",
       "      <td>5</td>\n",
       "      <td>1921</td>\n",
       "      <td>0.4150</td>\n",
       "      <td>60.936</td>\n",
       "    </tr>\n",
       "    <tr>\n",
       "      <th>2</th>\n",
       "      <td>0.0394</td>\n",
       "      <td>1921</td>\n",
       "      <td>0.961</td>\n",
       "      <td>['KHP Kridhamardawa Karaton Ngayogyakarta Hadi...</td>\n",
       "      <td>0.328</td>\n",
       "      <td>500062</td>\n",
       "      <td>0.166</td>\n",
       "      <td>0</td>\n",
       "      <td>1o6I8BglA6ylDMrIELygv1</td>\n",
       "      <td>0.913000</td>\n",
       "      <td>3</td>\n",
       "      <td>0.101</td>\n",
       "      <td>-14.850</td>\n",
       "      <td>1</td>\n",
       "      <td>Gati Bali</td>\n",
       "      <td>5</td>\n",
       "      <td>1921</td>\n",
       "      <td>0.0339</td>\n",
       "      <td>110.339</td>\n",
       "    </tr>\n",
       "    <tr>\n",
       "      <th>3</th>\n",
       "      <td>0.1650</td>\n",
       "      <td>1921</td>\n",
       "      <td>0.967</td>\n",
       "      <td>['Frank Parker']</td>\n",
       "      <td>0.275</td>\n",
       "      <td>210000</td>\n",
       "      <td>0.309</td>\n",
       "      <td>0</td>\n",
       "      <td>3ftBPsC5vPBKxYSee08FDH</td>\n",
       "      <td>0.000028</td>\n",
       "      <td>5</td>\n",
       "      <td>0.381</td>\n",
       "      <td>-9.316</td>\n",
       "      <td>1</td>\n",
       "      <td>Danny Boy</td>\n",
       "      <td>3</td>\n",
       "      <td>1921</td>\n",
       "      <td>0.0354</td>\n",
       "      <td>100.109</td>\n",
       "    </tr>\n",
       "    <tr>\n",
       "      <th>4</th>\n",
       "      <td>0.2530</td>\n",
       "      <td>1921</td>\n",
       "      <td>0.957</td>\n",
       "      <td>['Phil Regan']</td>\n",
       "      <td>0.418</td>\n",
       "      <td>166693</td>\n",
       "      <td>0.193</td>\n",
       "      <td>0</td>\n",
       "      <td>4d6HGyGT8e121BsdKmw9v6</td>\n",
       "      <td>0.000002</td>\n",
       "      <td>3</td>\n",
       "      <td>0.229</td>\n",
       "      <td>-10.096</td>\n",
       "      <td>1</td>\n",
       "      <td>When Irish Eyes Are Smiling</td>\n",
       "      <td>2</td>\n",
       "      <td>1921</td>\n",
       "      <td>0.0380</td>\n",
       "      <td>101.665</td>\n",
       "    </tr>\n",
       "  </tbody>\n",
       "</table>\n",
       "</div>"
      ],
      "text/plain": [
       "   valence  year  acousticness  \\\n",
       "0   0.0594  1921         0.982   \n",
       "1   0.9630  1921         0.732   \n",
       "2   0.0394  1921         0.961   \n",
       "3   0.1650  1921         0.967   \n",
       "4   0.2530  1921         0.957   \n",
       "\n",
       "                                             artists  danceability  \\\n",
       "0  ['Sergei Rachmaninoff', 'James Levine', 'Berli...         0.279   \n",
       "1                                     ['Dennis Day']         0.819   \n",
       "2  ['KHP Kridhamardawa Karaton Ngayogyakarta Hadi...         0.328   \n",
       "3                                   ['Frank Parker']         0.275   \n",
       "4                                     ['Phil Regan']         0.418   \n",
       "\n",
       "   duration_ms  energy  explicit                      id  instrumentalness  \\\n",
       "0       831667   0.211         0  4BJqT0PrAfrxzMOxytFOIz          0.878000   \n",
       "1       180533   0.341         0  7xPhfUan2yNtyFG0cUWkt8          0.000000   \n",
       "2       500062   0.166         0  1o6I8BglA6ylDMrIELygv1          0.913000   \n",
       "3       210000   0.309         0  3ftBPsC5vPBKxYSee08FDH          0.000028   \n",
       "4       166693   0.193         0  4d6HGyGT8e121BsdKmw9v6          0.000002   \n",
       "\n",
       "   key  liveness  loudness  mode  \\\n",
       "0   10     0.665   -20.096     1   \n",
       "1    7     0.160   -12.441     1   \n",
       "2    3     0.101   -14.850     1   \n",
       "3    5     0.381    -9.316     1   \n",
       "4    3     0.229   -10.096     1   \n",
       "\n",
       "                                                name  popularity release_date  \\\n",
       "0  Piano Concerto No. 3 in D Minor, Op. 30: III. ...           4         1921   \n",
       "1                            Clancy Lowered the Boom           5         1921   \n",
       "2                                          Gati Bali           5         1921   \n",
       "3                                          Danny Boy           3         1921   \n",
       "4                        When Irish Eyes Are Smiling           2         1921   \n",
       "\n",
       "   speechiness    tempo  \n",
       "0       0.0366   80.954  \n",
       "1       0.4150   60.936  \n",
       "2       0.0339  110.339  \n",
       "3       0.0354  100.109  \n",
       "4       0.0380  101.665  "
      ]
     },
     "execution_count": 1,
     "metadata": {},
     "output_type": "execute_result"
    }
   ],
   "source": [
    "import pandas as pd\n",
    "import numpy as np\n",
    "import matplotlib.pyplot as plt\n",
    "import seaborn as sns\n",
    "import plotly.express as px\n",
    "import warnings\n",
    "warnings.filterwarnings(\"ignore\")\n",
    "\n",
    "df = pd.read_csv('data.csv')\n",
    "pd.set_option('display.max_columns', None)\n",
    "df.head()"
   ]
  },
  {
   "cell_type": "markdown",
   "metadata": {},
   "source": [
    "## Preparing data for models"
   ]
  },
  {
   "cell_type": "code",
   "execution_count": 2,
   "metadata": {},
   "outputs": [
    {
     "data": {
      "text/plain": [
       "Index(['valence', 'year', 'acousticness', 'artists', 'danceability',\n",
       "       'duration_ms', 'energy', 'explicit', 'id', 'instrumentalness', 'key',\n",
       "       'liveness', 'loudness', 'mode', 'name', 'popularity', 'release_date',\n",
       "       'speechiness', 'tempo'],\n",
       "      dtype='object')"
      ]
     },
     "execution_count": 2,
     "metadata": {},
     "output_type": "execute_result"
    }
   ],
   "source": [
    "df.columns"
   ]
  },
  {
   "cell_type": "code",
   "execution_count": 3,
   "metadata": {},
   "outputs": [],
   "source": [
    "from sklearn.model_selection import train_test_split\n",
    "df = df[['valence', 'year', 'acousticness', 'artists', 'danceability','duration_ms', 'energy', 'explicit', 'id', 'instrumentalness', 'key','liveness', 'loudness', 'mode', 'name', 'release_date','speechiness', 'tempo', 'popularity']].dropna()\n",
    "X = df[['acousticness', 'danceability', 'duration_ms', 'energy','instrumentalness', 'liveness', 'loudness', 'speechiness', 'tempo', 'valence', 'key', 'mode']]\n",
    "y = df['popularity']\n",
    "X_train, X_test, y_train, y_test = train_test_split(X, y, random_state=126)"
   ]
  },
  {
   "cell_type": "code",
   "execution_count": 4,
   "metadata": {},
   "outputs": [],
   "source": [
    "from sklearn.preprocessing import StandardScaler\n",
    "scaler = StandardScaler()\n",
    "X_train_scaled = scaler.fit_transform(X_train)\n",
    "X_test_scaled = scaler.transform(X_test)"
   ]
  },
  {
   "cell_type": "code",
   "execution_count": 5,
   "metadata": {},
   "outputs": [],
   "source": [
    "from sklearn.preprocessing import PolynomialFeatures\n",
    "pf = PolynomialFeatures()\n",
    "X_train_expanded = pf.fit_transform(X_train)\n",
    "X_test_expanded = pf.transform(X_test)"
   ]
  },
  {
   "cell_type": "markdown",
   "metadata": {},
   "source": [
    "## Dummy (Baseline)"
   ]
  },
  {
   "cell_type": "code",
   "execution_count": 6,
   "metadata": {},
   "outputs": [
    {
     "name": "stdout",
     "output_type": "stream",
     "text": [
      "R-squared score for dummy model with raw values:  -0.00013067055975835018\n"
     ]
    }
   ],
   "source": [
    "import warnings\n",
    "warnings.simplefilter(action='ignore', category=FutureWarning)\n",
    "\n",
    "from sklearn.dummy import DummyRegressor\n",
    "dr = DummyRegressor()\n",
    "dr.fit(X_train, y_train)\n",
    "print('R-squared score for dummy model with raw values: ', dr.score(X_test, y_test))"
   ]
  },
  {
   "cell_type": "markdown",
   "metadata": {},
   "source": [
    "## Linear Regression"
   ]
  },
  {
   "cell_type": "markdown",
   "metadata": {},
   "source": [
    "### Raw Values"
   ]
  },
  {
   "cell_type": "code",
   "execution_count": 7,
   "metadata": {},
   "outputs": [
    {
     "name": "stdout",
     "output_type": "stream",
     "text": [
      "R-squared score for linear regression with raw values:  0.43875217918343734\n"
     ]
    }
   ],
   "source": [
    "from sklearn.linear_model import LinearRegression\n",
    "lr = LinearRegression()\n",
    "lr.fit(X_train, y_train)\n",
    "print('R-squared score for linear regression with raw values: ', lr.score(X_test, y_test))"
   ]
  },
  {
   "cell_type": "markdown",
   "metadata": {},
   "source": [
    "### Scaled Values"
   ]
  },
  {
   "cell_type": "code",
   "execution_count": 8,
   "metadata": {},
   "outputs": [
    {
     "name": "stdout",
     "output_type": "stream",
     "text": [
      "R-squared score for linear regression with scaled values:  0.4387521791834357\n"
     ]
    }
   ],
   "source": [
    "from sklearn.linear_model import LinearRegression\n",
    "lr = LinearRegression()\n",
    "lr.fit(X_train_scaled, y_train)\n",
    "print('R-squared score for linear regression with scaled values: ', lr.score(X_test_scaled, y_test))"
   ]
  },
  {
   "cell_type": "markdown",
   "metadata": {},
   "source": [
    "### Polynomial Features"
   ]
  },
  {
   "cell_type": "code",
   "execution_count": 9,
   "metadata": {},
   "outputs": [
    {
     "name": "stdout",
     "output_type": "stream",
     "text": [
      "R-squared score for linear regression with polynomial values:  0.5249086678815692\n"
     ]
    }
   ],
   "source": [
    "from sklearn.linear_model import LinearRegression\n",
    "lr = LinearRegression()\n",
    "lr.fit(X_train_expanded, y_train)\n",
    "print('R-squared score for linear regression with polynomial values: ', lr.score(X_test_expanded, y_test))"
   ]
  },
  {
   "cell_type": "markdown",
   "metadata": {},
   "source": [
    "## Ridge"
   ]
  },
  {
   "cell_type": "markdown",
   "metadata": {},
   "source": [
    "### Raw Values"
   ]
  },
  {
   "cell_type": "code",
   "execution_count": 10,
   "metadata": {},
   "outputs": [
    {
     "name": "stdout",
     "output_type": "stream",
     "text": [
      "R-squared score for ridge regression with raw values:  0.43875105579242\n"
     ]
    }
   ],
   "source": [
    "from sklearn.linear_model import Ridge\n",
    "ridge = Ridge(alpha=1).fit(X_train, y_train)\n",
    "print('R-squared score for ridge regression with raw values: ', ridge.score(X_test, y_test))"
   ]
  },
  {
   "cell_type": "code",
   "execution_count": 11,
   "metadata": {},
   "outputs": [
    {
     "name": "stdout",
     "output_type": "stream",
     "text": [
      "Optimal alpha for ridge regression with raw values:  {'alpha': 0.1}\n",
      "R-squared score for ridge regression with raw values:  0.43875206832529934\n"
     ]
    }
   ],
   "source": [
    "from sklearn.model_selection import GridSearchCV\n",
    "params = {'alpha': [0.001, 0.01, 0.1, 1, 10, 100, 1000]}\n",
    "gs = GridSearchCV(Ridge(), param_grid=params, scoring='r2', n_jobs=-1)\n",
    "gs.fit(X_train, y_train)\n",
    "print('Optimal alpha for ridge regression with raw values: ', gs.best_params_)\n",
    "print('R-squared score for ridge regression with raw values: ', gs.score(X_test, y_test))"
   ]
  },
  {
   "cell_type": "markdown",
   "metadata": {},
   "source": [
    "### Scaled Values"
   ]
  },
  {
   "cell_type": "code",
   "execution_count": 12,
   "metadata": {},
   "outputs": [
    {
     "name": "stdout",
     "output_type": "stream",
     "text": [
      "R-squared score for ridge regression with scaled values:  0.4387521562752168\n"
     ]
    }
   ],
   "source": [
    "ridge = Ridge(alpha=1).fit(X_train_scaled, y_train)\n",
    "print('R-squared score for ridge regression with scaled values: ', ridge.score(X_test_scaled, y_test))"
   ]
  },
  {
   "cell_type": "code",
   "execution_count": 13,
   "metadata": {},
   "outputs": [
    {
     "name": "stdout",
     "output_type": "stream",
     "text": [
      "Optimal alpha for ridge regression with scaled values:  {'alpha': 10}\n",
      "R-squared score for ridge regression with scaled values:  0.4387519473283663\n"
     ]
    }
   ],
   "source": [
    "from sklearn.model_selection import GridSearchCV\n",
    "params = {'alpha': [0.001, 0.01, 0.1, 1, 10, 100, 1000]}\n",
    "gs = GridSearchCV(Ridge(), param_grid=params, scoring='r2', n_jobs=-1)\n",
    "gs.fit(X_train_scaled, y_train)\n",
    "print('Optimal alpha for ridge regression with scaled values: ', gs.best_params_)\n",
    "print('R-squared score for ridge regression with scaled values: ', gs.score(X_test_scaled, y_test))"
   ]
  },
  {
   "cell_type": "markdown",
   "metadata": {},
   "source": [
    "### Polynomial Features"
   ]
  },
  {
   "cell_type": "code",
   "execution_count": 14,
   "metadata": {},
   "outputs": [
    {
     "name": "stdout",
     "output_type": "stream",
     "text": [
      "R-squared score for ridge regression with expanded values:  0.5248140366382139\n"
     ]
    }
   ],
   "source": [
    "ridge = Ridge(alpha=1).fit(X_train_expanded, y_train)\n",
    "print('R-squared score for ridge regression with expanded values: ', ridge.score(X_test_expanded, y_test))"
   ]
  },
  {
   "cell_type": "code",
   "execution_count": 15,
   "metadata": {},
   "outputs": [
    {
     "name": "stdout",
     "output_type": "stream",
     "text": [
      "Optimal alpha for ridge regression with expanded values:  {'alpha': 0.1}\n",
      "R-squared score for ridge regression with expanded values:  0.5248972018295721\n"
     ]
    }
   ],
   "source": [
    "from sklearn.model_selection import GridSearchCV\n",
    "params = {'alpha': [0.001, 0.01, 0.1, 1, 10, 100, 1000]}\n",
    "gs = GridSearchCV(Ridge(), param_grid=params, scoring='r2', n_jobs=-1)\n",
    "gs.fit(X_train_expanded, y_train)\n",
    "print('Optimal alpha for ridge regression with expanded values: ', gs.best_params_)\n",
    "print('R-squared score for ridge regression with expanded values: ', gs.score(X_test_expanded, y_test))"
   ]
  },
  {
   "cell_type": "markdown",
   "metadata": {},
   "source": [
    "## Lasso"
   ]
  },
  {
   "cell_type": "markdown",
   "metadata": {},
   "source": [
    "### Raw"
   ]
  },
  {
   "cell_type": "code",
   "execution_count": 16,
   "metadata": {},
   "outputs": [
    {
     "name": "stdout",
     "output_type": "stream",
     "text": [
      "R-squared score for lasso regression with raw values:  0.3333124820021308\n"
     ]
    }
   ],
   "source": [
    "from sklearn.linear_model import Lasso\n",
    "lasso = Lasso(alpha=1).fit(X_train, y_train)\n",
    "print('R-squared score for lasso regression with raw values: ', lasso.score(X_test, y_test))"
   ]
  },
  {
   "cell_type": "code",
   "execution_count": 17,
   "metadata": {},
   "outputs": [
    {
     "name": "stdout",
     "output_type": "stream",
     "text": [
      "Optimal alpha for lasso regression with raw values:  {'alpha': 0.001}\n",
      "R-squared score for lasso regression with raw values:  0.4387408322380546\n"
     ]
    }
   ],
   "source": [
    "params = {'alpha': [0.001, 0.01, 0.1, 1, 10, 100, 1000]}\n",
    "gs = GridSearchCV(estimator=lasso, param_grid=params, scoring='r2', n_jobs=-1)\n",
    "gs.fit(X_train, y_train)\n",
    "print('Optimal alpha for lasso regression with raw values: ', gs.best_params_)\n",
    "print('R-squared score for lasso regression with raw values: ', gs.score(X_test, y_test))"
   ]
  },
  {
   "cell_type": "markdown",
   "metadata": {},
   "source": [
    "### Scaled"
   ]
  },
  {
   "cell_type": "code",
   "execution_count": 18,
   "metadata": {},
   "outputs": [
    {
     "name": "stdout",
     "output_type": "stream",
     "text": [
      "R-squared score for lasso regression with scaled values:  0.41561446129230206\n"
     ]
    }
   ],
   "source": [
    "lasso = Lasso(alpha=1).fit(X_train_scaled, y_train)\n",
    "print('R-squared score for lasso regression with scaled values: ', lasso.score(X_test_scaled, y_test))"
   ]
  },
  {
   "cell_type": "code",
   "execution_count": 19,
   "metadata": {},
   "outputs": [
    {
     "name": "stdout",
     "output_type": "stream",
     "text": [
      "Optimal alpha for lasso regression with scaled values:  {'alpha': 0.01}\n",
      "R-squared score for lasso regression with scaled values:  0.4387301331831652\n"
     ]
    }
   ],
   "source": [
    "params = {'alpha': [0.001, 0.01, 0.1, 1, 10, 100, 1000]}\n",
    "gs = GridSearchCV(estimator=lasso, param_grid=params, scoring='r2', n_jobs=-1)\n",
    "gs.fit(X_train_scaled, y_train)\n",
    "print('Optimal alpha for lasso regression with scaled values: ', gs.best_params_)\n",
    "print('R-squared score for lasso regression with scaled values: ', gs.score(X_test_scaled, y_test))"
   ]
  },
  {
   "cell_type": "markdown",
   "metadata": {},
   "source": [
    "### Polynomial features"
   ]
  },
  {
   "cell_type": "code",
   "execution_count": 20,
   "metadata": {},
   "outputs": [
    {
     "name": "stdout",
     "output_type": "stream",
     "text": [
      "R-squared score for lasso regression with expanded values:  0.4498770376878116\n"
     ]
    }
   ],
   "source": [
    "from sklearn.linear_model import Lasso\n",
    "lasso = Lasso(alpha=1).fit(X_train_expanded, y_train)\n",
    "print('R-squared score for lasso regression with expanded values: ', lasso.score(X_test_expanded, y_test))"
   ]
  },
  {
   "cell_type": "code",
   "execution_count": 21,
   "metadata": {},
   "outputs": [
    {
     "name": "stdout",
     "output_type": "stream",
     "text": [
      "Optimal alpha for lasso regression with expanded values:  {'alpha': 0.001}\n",
      "R-squared score for lasso regression with expanded values:  0.5244216680795837\n"
     ]
    }
   ],
   "source": [
    "params = {'alpha': [0.001, 0.01, 0.1, 1, 10, 100, 1000]}\n",
    "gs = GridSearchCV(estimator=lasso, param_grid=params, scoring='r2', n_jobs=-1)\n",
    "gs.fit(X_train_expanded, y_train)\n",
    "print('Optimal alpha for lasso regression with expanded values: ', gs.best_params_)\n",
    "print('R-squared score for lasso regression with expanded values: ', gs.score(X_test_expanded, y_test))"
   ]
  },
  {
   "cell_type": "markdown",
   "metadata": {},
   "source": [
    "## ElasticNet"
   ]
  },
  {
   "cell_type": "markdown",
   "metadata": {},
   "source": [
    "### Raw"
   ]
  },
  {
   "cell_type": "code",
   "execution_count": 22,
   "metadata": {},
   "outputs": [
    {
     "name": "stdout",
     "output_type": "stream",
     "text": [
      "R-squared score for ElasticNet regression with raw values:  0.2524313258224342\n"
     ]
    }
   ],
   "source": [
    "from sklearn.linear_model import ElasticNet\n",
    "elastic_net = ElasticNet(alpha=1, l1_ratio=0.5).fit(X_train, y_train)\n",
    "print('R-squared score for ElasticNet regression with raw values: ', elastic_net.score(X_test, y_test))"
   ]
  },
  {
   "cell_type": "code",
   "execution_count": 23,
   "metadata": {},
   "outputs": [
    {
     "name": "stdout",
     "output_type": "stream",
     "text": [
      "Optimal alpha and L1 ratio for ElasticNet regression with raw values:  {'alpha': 0.001, 'l1_ratio': 1}\n",
      "R-squared score for ElasticNet regression with raw values:  0.4387408322380546\n"
     ]
    }
   ],
   "source": [
    "alpha = [0.001, 0.01, 0.1, 1, 10, 100, 1000]\n",
    "l1_ratio = [0, 0.1, 0.2, 0.3, 0.4, 0.5, 0.6, 0.7, 0.8, 0.9, 1]\n",
    "param_grid = dict(alpha=alpha, l1_ratio=l1_ratio)\n",
    "gs = GridSearchCV(estimator=elastic_net, param_grid=param_grid, scoring='r2', n_jobs=-1)\n",
    "gs.fit(X_train, y_train)\n",
    "print('Optimal alpha and L1 ratio for ElasticNet regression with raw values: ', gs.best_params_)\n",
    "print('R-squared score for ElasticNet regression with raw values: ', gs.score(X_test, y_test))"
   ]
  },
  {
   "cell_type": "markdown",
   "metadata": {},
   "source": [
    "### Scaled"
   ]
  },
  {
   "cell_type": "code",
   "execution_count": 24,
   "metadata": {},
   "outputs": [
    {
     "name": "stdout",
     "output_type": "stream",
     "text": [
      "R-squared score for ElasticNet regression with scaled values:  0.3879998649551908\n"
     ]
    }
   ],
   "source": [
    "from sklearn.linear_model import ElasticNet\n",
    "elastic_net = ElasticNet(alpha=1, l1_ratio=0.5).fit(X_train_scaled, y_train)\n",
    "print('R-squared score for ElasticNet regression with scaled values: ', elastic_net.score(X_test_scaled, y_test))"
   ]
  },
  {
   "cell_type": "code",
   "execution_count": 25,
   "metadata": {},
   "outputs": [
    {
     "name": "stdout",
     "output_type": "stream",
     "text": [
      "Optimal alpha and L1 ratio for ElasticNet regression with scaled values:  {'alpha': 0.01, 'l1_ratio': 1}\n",
      "R-squared score for ElasticNet regression with scaled values:  0.4387301331831652\n"
     ]
    }
   ],
   "source": [
    "alpha = [0.001, 0.01, 0.1, 1, 10, 100, 1000]\n",
    "l1_ratio = [0, 0.1, 0.2, 0.3, 0.4, 0.5, 0.6, 0.7, 0.8, 0.9, 1]\n",
    "param_grid = dict(alpha=alpha, l1_ratio=l1_ratio)\n",
    "gs = GridSearchCV(estimator=elastic_net, param_grid=param_grid, scoring='r2', n_jobs=-1)\n",
    "gs.fit(X_train_scaled, y_train)\n",
    "print('Optimal alpha and L1 ratio for ElasticNet regression with scaled values: ', gs.best_params_)\n",
    "print('R-squared score for ElasticNet regression with scaled values: ', gs.score(X_test_scaled, y_test))"
   ]
  },
  {
   "cell_type": "markdown",
   "metadata": {},
   "source": [
    "### Polynomial features"
   ]
  },
  {
   "cell_type": "code",
   "execution_count": 26,
   "metadata": {},
   "outputs": [
    {
     "name": "stdout",
     "output_type": "stream",
     "text": [
      "R-squared score for ElasticNet regression with expanded values:  0.4517123835525958\n"
     ]
    }
   ],
   "source": [
    "from sklearn.linear_model import ElasticNet\n",
    "elastic_net = ElasticNet(alpha=1, l1_ratio=0.5).fit(X_train_expanded, y_train)\n",
    "print('R-squared score for ElasticNet regression with expanded values: ', elastic_net.score(X_test_expanded, y_test))"
   ]
  },
  {
   "cell_type": "code",
   "execution_count": null,
   "metadata": {},
   "outputs": [],
   "source": [
    "alpha = [0.001, 0.01, 0.1, 1, 10, 100, 1000]\n",
    "l1_ratio = [0, 0.1, 0.2, 0.3, 0.4, 0.5, 0.6, 0.7, 0.8, 0.9, 1]\n",
    "param_grid = dict(alpha=alpha, l1_ratio=l1_ratio)\n",
    "gs = GridSearchCV(estimator=elastic_net, param_grid=param_grid, scoring='r2', n_jobs=-1)\n",
    "gs.fit(X_train_expanded, y_train)\n",
    "print('Optimal alpha and L1 ratio for ElasticNet regression with expanded values: ', gs.best_params_)\n",
    "print('R-squared score for ElasticNet regression with expanded values: ', gs.score(X_test_expanded, y_test))"
   ]
  }
 ],
 "metadata": {
  "kernelspec": {
   "display_name": "Python 3",
   "language": "python",
   "name": "python3"
  },
  "language_info": {
   "codemirror_mode": {
    "name": "ipython",
    "version": 3
   },
   "file_extension": ".py",
   "mimetype": "text/x-python",
   "name": "python",
   "nbconvert_exporter": "python",
   "pygments_lexer": "ipython3",
   "version": "3.8.6"
  }
 },
 "nbformat": 4,
 "nbformat_minor": 4
}
