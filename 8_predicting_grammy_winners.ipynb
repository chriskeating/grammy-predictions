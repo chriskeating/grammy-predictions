{
 "cells": [
  {
   "cell_type": "code",
   "execution_count": 1,
   "metadata": {},
   "outputs": [],
   "source": [
    "# Note: Here are some things to consider in your notebook: sample size, correlations, feature importance, unexplained variance or outliers, variable selection, imbalanced dataset (if classification), and any relationships between your target and independent variables."
   ]
  },
  {
   "cell_type": "code",
   "execution_count": 1,
   "metadata": {},
   "outputs": [],
   "source": [
    "# INPUT\n",
    "year = 2021\n",
    "# Select from 'danceability', 'energy', 'key', 'loudness', 'mode', 'speechiness', 'acousticness', 'instrumentalness', 'liveness', 'valence', 'tempo','duration_ms'\n",
    "# ['won_award', 'danceability', 'energy', 'key', 'loudness', 'mode','speechiness', 'acousticness', 'instrumentalness', 'liveness','valence', 'tempo', 'duration_ms', 'time_signature', 'Category', 'Cat','musician', 'song']\n",
    "trait = 'danceability'"
   ]
  },
  {
   "cell_type": "code",
   "execution_count": 2,
   "metadata": {},
   "outputs": [],
   "source": [
    "import pandas as pd\n",
    "import plotly.express as px\n",
    "from sklearn.preprocessing import MinMaxScaler\n",
    "pd.set_option('display.max_columns', None)\n",
    "pd.options.mode.chained_assignment = None\n",
    "df = pd.read_csv('grammy_nominees_with_music_attributes.csv').drop('Unnamed: 0', axis=1)\n",
    "df_history = df[(df['year'] < year) & (df['year'] > year - 10)]\n",
    "df_this_year = df[df['year'] == year]\n",
    "df_this_year['Category'] = 'Current Year (Loser)'\n",
    "df_this_year['Cat'] = 'Historic'\n",
    "df_this_year['song'] = df_this_year['song']\n",
    "df_this_year.loc[df_this_year['won_award'] == 1, 'Category'] = 'Current Year (Winner)'"
   ]
  },
  {
   "cell_type": "code",
   "execution_count": 9,
   "metadata": {},
   "outputs": [],
   "source": [
    "past_winners = df_history.drop(columns=['year']).groupby('won_award').agg('mean').reset_index()\n",
    "# past_winners_25th_percentile = df_history.drop(columns=['year']).groupby('won_award').quantile(q=.25).reset_index()\n",
    "# past_winners_75th_percentile = df_history.drop(columns=['year']).groupby('won_award').quantile(q=.75).reset_index()\n",
    "past_winners['Category'] = 'Historic'\n",
    "past_winners['Cat'] = 'Historic'\n",
    "past_winners['musician'] = ''\n",
    "past_winners.loc[past_winners['won_award'] == 0, 'Category'] = 'Historic Losers (10 years)'\n",
    "past_winners.loc[past_winners['won_award'] == 1, 'Category'] = 'Historic Winners (10 years)'\n",
    "past_winners['song'] = past_winners['Category']"
   ]
  },
  {
   "cell_type": "code",
   "execution_count": 10,
   "metadata": {},
   "outputs": [],
   "source": [
    "compare_nominees_to_history = pd.concat([past_winners,df_this_year[['song', 'musician', 'danceability', 'energy', 'key', 'loudness', 'mode', 'speechiness', 'acousticness', 'instrumentalness', 'liveness', 'valence', 'tempo','duration_ms', 'time_signature', 'Category', 'won_award']]]).set_index('song', drop=True)"
   ]
  },
  {
   "cell_type": "code",
   "execution_count": 32,
   "metadata": {},
   "outputs": [],
   "source": [
    "grouped = df.groupby('year').mean()\n",
    "grouped = grouped[['speechiness', 'acousticness', 'duration_ms']]\n",
    "grouped[['speechiness', 'acousticness', 'duration_ms']] = MinMaxScaler().fit_transform(grouped[['speechiness', 'acousticness', 'duration_ms']])\n",
    "grouped = grouped.rolling(10).mean().dropna()"
   ]
  },
  {
   "cell_type": "code",
   "execution_count": 13,
   "metadata": {},
   "outputs": [],
   "source": [
    "# music over the radio, not as clear, \n",
    "# lyrics now are the most importnat part because people conenct with the musician\n",
    "# song-writers are more importnat now than they have ever been\n",
    "# rise of rap and hip hop\n",
    "# billboard top 100 charts\n",
    "# dot com bubble"
   ]
  },
  {
   "cell_type": "code",
   "execution_count": 14,
   "metadata": {},
   "outputs": [
    {
     "data": {
      "text/plain": [
       "['danceability', 'mode', 'speechiness', 'energy', 'key', 'tempo']"
      ]
     },
     "execution_count": 14,
     "metadata": {},
     "output_type": "execute_result"
    }
   ],
   "source": [
    "characteristics = df_history.corr()['won_award'].sort_values(ascending=False).index\n",
    "important_characteristics = list(characteristics[1:4]) + list(characteristics[-3:])\n",
    "important_characteristics"
   ]
  },
  {
   "cell_type": "code",
   "execution_count": 20,
   "metadata": {},
   "outputs": [
    {
     "data": {
      "text/plain": [
       "[0.6170526315789475,\n",
       " 0.7368421052631579,\n",
       " 0.08071315789473683,\n",
       " 0.5766578947368421,\n",
       " 6.0,\n",
       " 122.1117894736842]"
      ]
     },
     "execution_count": 20,
     "metadata": {},
     "output_type": "execute_result"
    }
   ],
   "source": [
    "list(compare_nominees_to_history[important_characteristics].iloc[0])"
   ]
  },
  {
   "cell_type": "code",
   "execution_count": 34,
   "metadata": {},
   "outputs": [
    {
     "data": {
      "text/plain": [
       "danceability      0.703\n",
       "mode                0.0\n",
       "speechiness        0.34\n",
       "energy            0.705\n",
       "key                 1.0\n",
       "tempo           138.227\n",
       "Name: I Can't Breathe, dtype: object"
      ]
     },
     "execution_count": 34,
     "metadata": {},
     "output_type": "execute_result"
    }
   ],
   "source": [
    "# df_comparison = compare_nominees_to_history.set_index('song')\n",
    "compare_nominees_to_history.loc[\"I Can't Breathe\"][important_characteristics]"
   ]
  },
  {
   "cell_type": "code",
   "execution_count": 1,
   "metadata": {},
   "outputs": [
    {
     "ename": "NameError",
     "evalue": "name 'df_history' is not defined",
     "output_type": "error",
     "traceback": [
      "\u001b[0;31m---------------------------------------------------------------------------\u001b[0m",
      "\u001b[0;31mNameError\u001b[0m                                 Traceback (most recent call last)",
      "\u001b[0;32m<ipython-input-1-0478acbf1dff>\u001b[0m in \u001b[0;36m<module>\u001b[0;34m\u001b[0m\n\u001b[1;32m      2\u001b[0m \u001b[0;32mimport\u001b[0m \u001b[0mmatplotlib\u001b[0m\u001b[0;34m.\u001b[0m\u001b[0mpyplot\u001b[0m \u001b[0;32mas\u001b[0m \u001b[0mplt\u001b[0m\u001b[0;34m\u001b[0m\u001b[0;34m\u001b[0m\u001b[0m\n\u001b[1;32m      3\u001b[0m \u001b[0;32mimport\u001b[0m \u001b[0mseaborn\u001b[0m \u001b[0;32mas\u001b[0m \u001b[0msns\u001b[0m\u001b[0;34m\u001b[0m\u001b[0;34m\u001b[0m\u001b[0m\n\u001b[0;32m----> 4\u001b[0;31m \u001b[0mmask\u001b[0m \u001b[0;34m=\u001b[0m \u001b[0mnp\u001b[0m\u001b[0;34m.\u001b[0m\u001b[0mzeros_like\u001b[0m\u001b[0;34m(\u001b[0m\u001b[0mdf_history\u001b[0m\u001b[0;34m.\u001b[0m\u001b[0mcorr\u001b[0m\u001b[0;34m(\u001b[0m\u001b[0;34m)\u001b[0m\u001b[0;34m)\u001b[0m\u001b[0;34m\u001b[0m\u001b[0;34m\u001b[0m\u001b[0m\n\u001b[0m\u001b[1;32m      5\u001b[0m \u001b[0mmask\u001b[0m\u001b[0;34m[\u001b[0m\u001b[0mnp\u001b[0m\u001b[0;34m.\u001b[0m\u001b[0mtriu_indices_from\u001b[0m\u001b[0;34m(\u001b[0m\u001b[0mmask\u001b[0m\u001b[0;34m)\u001b[0m\u001b[0;34m]\u001b[0m \u001b[0;34m=\u001b[0m \u001b[0;32mTrue\u001b[0m\u001b[0;34m\u001b[0m\u001b[0;34m\u001b[0m\u001b[0m\n\u001b[1;32m      6\u001b[0m \u001b[0;34m\u001b[0m\u001b[0m\n",
      "\u001b[0;31mNameError\u001b[0m: name 'df_history' is not defined"
     ]
    }
   ],
   "source": [
    "import numpy as np\n",
    "import matplotlib.pyplot as plt\n",
    "import seaborn as sns\n",
    "mask = np.zeros_like(df_history.corr())\n",
    "mask[np.triu_indices_from(mask)] = True\n",
    "\n",
    "plt.figure(figsize=(15, 10))\n",
    "sns.heatmap(\n",
    "    df_history.corr(),\n",
    "    cmap='coolwarm',\n",
    "    annot=True,\n",
    "    mask=mask,\n",
    "    vmin=-1.,\n",
    "    vmax=1.\n",
    ");"
   ]
  },
  {
   "cell_type": "code",
   "execution_count": 11,
   "metadata": {},
   "outputs": [],
   "source": [
    "X_train = df_history[important_characteristics]\n",
    "y_train = df_history['won_award']\n",
    "X_test = df_this_year[important_characteristics]\n",
    "y_test = df_this_year['won_award']"
   ]
  },
  {
   "cell_type": "code",
   "execution_count": 12,
   "metadata": {},
   "outputs": [],
   "source": [
    "from sklearn.preprocessing import StandardScaler\n",
    "ss = StandardScaler()\n",
    "X_train_scaled = ss.fit_transform(X_train, y_train)\n",
    "X_test_scaled = ss.transform(X_test)"
   ]
  },
  {
   "cell_type": "code",
   "execution_count": 13,
   "metadata": {},
   "outputs": [],
   "source": [
    "from sklearn.preprocessing import PolynomialFeatures\n",
    "pf = PolynomialFeatures()\n",
    "X_train_expanded = pf.fit_transform(X_train, y_train)\n",
    "X_test_expanded = pf.transform(X_test)"
   ]
  },
  {
   "cell_type": "code",
   "execution_count": 14,
   "metadata": {},
   "outputs": [],
   "source": [
    "from sklearn.linear_model import LogisticRegression\n",
    "from sklearn.model_selection import GridSearchCV\n",
    "params = {'C': [.001, .01, .1, 1, 10, 100, 1000]}\n",
    "gs_raw = GridSearchCV(LogisticRegression(), params, n_jobs=-1)\n",
    "gs_raw.fit(X_train, y_train)\n",
    "raw_preds = list(gs_raw.predict_proba(X_test))\n",
    "# predictions = pd.DataFrame({'song':df_this_year['song'], 'predictions': raw_preds})"
   ]
  },
  {
   "cell_type": "code",
   "execution_count": 15,
   "metadata": {},
   "outputs": [],
   "source": [
    "params = {'C': [.001, .01, .1, 1, 10, 100, 1000]}\n",
    "gs_scaled = GridSearchCV(LogisticRegression(), params, n_jobs=-1)\n",
    "gs_scaled.fit(X_train_scaled, y_train)\n",
    "gs_scaled.score(X_test_scaled, y_test)\n",
    "scaled_preds = list(gs_scaled.predict_proba(X_test_scaled))\n",
    "# predictions = pd.DataFrame({'song':df_this_year['song'], 'predictions': scaled_preds})"
   ]
  },
  {
   "cell_type": "code",
   "execution_count": 16,
   "metadata": {},
   "outputs": [
    {
     "name": "stderr",
     "output_type": "stream",
     "text": [
      "/usr/local/lib/python3.8/site-packages/sklearn/linear_model/_logistic.py:762: ConvergenceWarning:\n",
      "\n",
      "lbfgs failed to converge (status=1):\n",
      "STOP: TOTAL NO. of ITERATIONS REACHED LIMIT.\n",
      "\n",
      "Increase the number of iterations (max_iter) or scale the data as shown in:\n",
      "    https://scikit-learn.org/stable/modules/preprocessing.html\n",
      "Please also refer to the documentation for alternative solver options:\n",
      "    https://scikit-learn.org/stable/modules/linear_model.html#logistic-regression\n",
      "\n"
     ]
    }
   ],
   "source": [
    "params = {'C': [.001, .01, .1, 1, 10, 100, 1000]}\n",
    "gs_pf = GridSearchCV(LogisticRegression(), params, n_jobs=-1)\n",
    "gs_pf.fit(X_train_expanded, y_train)\n",
    "gs_pf.predict(X_test_expanded)\n",
    "pf_preds = list(gs_pf.predict_proba(X_test_expanded))\n",
    "predictions = pd.DataFrame({'song':df_this_year['song'], 'predictions': pf_preds})"
   ]
  },
  {
   "cell_type": "code",
   "execution_count": 17,
   "metadata": {},
   "outputs": [
    {
     "data": {
      "text/html": [
       "<div>\n",
       "<style scoped>\n",
       "    .dataframe tbody tr th:only-of-type {\n",
       "        vertical-align: middle;\n",
       "    }\n",
       "\n",
       "    .dataframe tbody tr th {\n",
       "        vertical-align: top;\n",
       "    }\n",
       "\n",
       "    .dataframe thead th {\n",
       "        text-align: right;\n",
       "    }\n",
       "</style>\n",
       "<table border=\"1\" class=\"dataframe\">\n",
       "  <thead>\n",
       "    <tr style=\"text-align: right;\">\n",
       "      <th></th>\n",
       "      <th>chris_prob_win</th>\n",
       "      <th>implied_odds</th>\n",
       "    </tr>\n",
       "    <tr>\n",
       "      <th>song</th>\n",
       "      <th></th>\n",
       "      <th></th>\n",
       "    </tr>\n",
       "  </thead>\n",
       "  <tbody>\n",
       "    <tr>\n",
       "      <th>If the World Was Ending</th>\n",
       "      <td>30.25%</td>\n",
       "      <td>5.88%</td>\n",
       "    </tr>\n",
       "    <tr>\n",
       "      <th>Black Parade</th>\n",
       "      <td>29.82%</td>\n",
       "      <td>25.0%</td>\n",
       "    </tr>\n",
       "    <tr>\n",
       "      <th>I Can't Breathe</th>\n",
       "      <td>7.0%</td>\n",
       "      <td>3.85%</td>\n",
       "    </tr>\n",
       "    <tr>\n",
       "      <th>Everything I Wanted</th>\n",
       "      <td>5.82%</td>\n",
       "      <td>9.09%</td>\n",
       "    </tr>\n",
       "    <tr>\n",
       "      <th>Cardigan</th>\n",
       "      <td>5.01%</td>\n",
       "      <td>22.22%</td>\n",
       "    </tr>\n",
       "    <tr>\n",
       "      <th>The Box</th>\n",
       "      <td>1.77%</td>\n",
       "      <td>5.26%</td>\n",
       "    </tr>\n",
       "    <tr>\n",
       "      <th>Don't Start Now</th>\n",
       "      <td>0.42%</td>\n",
       "      <td>23.09%</td>\n",
       "    </tr>\n",
       "  </tbody>\n",
       "</table>\n",
       "</div>"
      ],
      "text/plain": [
       "                        chris_prob_win implied_odds\n",
       "song                                               \n",
       "If the World Was Ending         30.25%        5.88%\n",
       "Black Parade                    29.82%        25.0%\n",
       "I Can't Breathe                   7.0%        3.85%\n",
       "Everything I Wanted              5.82%        9.09%\n",
       "Cardigan                         5.01%       22.22%\n",
       "The Box                          1.77%        5.26%\n",
       "Don't Start Now                  0.42%       23.09%"
      ]
     },
     "execution_count": 17,
     "metadata": {},
     "output_type": "execute_result"
    }
   ],
   "source": [
    "predictions['chris_prob_win'] = predictions['predictions'].apply(lambda x: x[1])\n",
    "predictions = predictions[['song', 'chris_prob_win']]\n",
    "total_prob_win = predictions['chris_prob_win'].sum()\n",
    "predictions['chris_prob_win'] = predictions['chris_prob_win']/total_prob_win\n",
    "predictions.sort_values(by='chris_prob_win', ascending=False, inplace=True)\n",
    "predictions.reset_index(drop=True, inplace=True)\n",
    "\n",
    "# Get betting odds from https://www.covers.com/entertainment/grammy-awards-betting-odds-picks-best-bets\n",
    "betting_odds = pd.DataFrame(columns=['song', 'odds_as_of_jan_22_2021'])\n",
    "betting_odds.loc[len(betting_odds)] = ['Black Parade', '+300']\n",
    "betting_odds.loc[len(betting_odds)] = [\"Don't Start Now\", '+333']\n",
    "betting_odds.loc[len(betting_odds)] = ['Cardigan', '+350']\n",
    "betting_odds.loc[len(betting_odds)] = ['Everything I Wanted', '+1,000']\n",
    "betting_odds.loc[len(betting_odds)] = ['If the World Was Ending', '+1,600']\n",
    "betting_odds.loc[len(betting_odds)] = ['The Box', '+1,800']\n",
    "betting_odds.loc[len(betting_odds)] = [\"I Can't Breathe\", '+2,500']\n",
    "betting_odds.loc[len(betting_odds)] = ['Circles', '+1,200']\n",
    "def convert_betting_line_to_implied_odds(line):\n",
    "    favorite = True if line[0] == '+' else False\n",
    "    line = int(line[1:].replace(',', ''))\n",
    "    if favorite:\n",
    "        return 100 / (line + 100)\n",
    "    else:\n",
    "        return line / (line + 100)\n",
    "betting_odds['covers_com_implied_odds'] = betting_odds['odds_as_of_jan_22_2021'].apply(convert_betting_line_to_implied_odds)\n",
    "betting_odds.drop(columns=['odds_as_of_jan_22_2021'], inplace=True)\n",
    "predictions = pd.merge(predictions, betting_odds, on='song')\n",
    "predictions.set_index('song', inplace=True)\n",
    "predictions['chris_prob_win'] = predictions['chris_prob_win'].apply(lambda x: str(round(x * 100, 2)) + '%')\n",
    "predictions['covers_com_implied_odds'] = predictions['covers_com_implied_odds'].apply(lambda x: str(round(x * 100, 2)) + '%')\n",
    "predictions"
   ]
  },
  {
   "cell_type": "code",
   "execution_count": 2,
   "metadata": {},
   "outputs": [
    {
     "data": {
      "text/plain": [
       "'0.72.0'"
      ]
     },
     "execution_count": 2,
     "metadata": {},
     "output_type": "execute_result"
    }
   ],
   "source": [
    "import streamlit\n",
    "streamlit.__version__"
   ]
  },
  {
   "cell_type": "code",
   "execution_count": null,
   "metadata": {},
   "outputs": [],
   "source": []
  }
 ],
 "metadata": {
  "kernelspec": {
   "display_name": "Python 3",
   "language": "python",
   "name": "python3"
  },
  "language_info": {
   "codemirror_mode": {
    "name": "ipython",
    "version": 3
   },
   "file_extension": ".py",
   "mimetype": "text/x-python",
   "name": "python",
   "nbconvert_exporter": "python",
   "pygments_lexer": "ipython3",
   "version": "3.8.6"
  }
 },
 "nbformat": 4,
 "nbformat_minor": 4
}
