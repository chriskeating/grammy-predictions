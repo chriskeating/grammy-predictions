{
 "cells": [
  {
   "cell_type": "markdown",
   "metadata": {},
   "source": [
    "## Sentiment analysis on lyrics "
   ]
  },
  {
   "cell_type": "markdown",
   "metadata": {},
   "source": [
    "##### Some code was re-used from the notebook here: https://github.com/cristobalvch/Music-Lyrics-NLP/blob/master/lyrics-analysis.ipynb"
   ]
  },
  {
   "cell_type": "code",
   "execution_count": 1,
   "metadata": {},
   "outputs": [
    {
     "name": "stderr",
     "output_type": "stream",
     "text": [
      "[nltk_data] Downloading package stopwords to\n",
      "[nltk_data]     /Users/ckeating/nltk_data...\n",
      "[nltk_data]   Package stopwords is already up-to-date!\n",
      "[nltk_data] Downloading package wordnet to\n",
      "[nltk_data]     /Users/ckeating/nltk_data...\n",
      "[nltk_data]   Package wordnet is already up-to-date!\n",
      "[nltk_data] Downloading package vader_lexicon to\n",
      "[nltk_data]     /Users/ckeating/nltk_data...\n",
      "[nltk_data]   Package vader_lexicon is already up-to-date!\n",
      "[nltk_data] Downloading package punkt to /Users/ckeating/nltk_data...\n",
      "[nltk_data]   Package punkt is already up-to-date!\n"
     ]
    },
    {
     "data": {
      "text/plain": [
       "'[Verse 1]Heaven sent you to meIm just hopin’ I dont repeat history[Pre-Chorus]Boy, Im tryna meet your mama on a SundayThen make a lotta love on a Monday (Ah, ah)Never need no (No), no one else, babe’Cause Ill be[Chorus]Switchin them positions for youCookin in the kitchen and Im in the bedroomIm in the Olympics, way Im jumpin through hoopsKnow my love infinite, nothin’ I wouldn’t doThat I wont do, switchin’ for you[Verse 2]Perfect, perfectYoure too good to be true (Youre too good to be true)But I get tired of runnin, fuck itNow, I’m runnin with you (With you)[Pre-Chorus]Said, boy, Im tryna meet your mama on a SundayThen make a lotta love on a Monday (Ah, ah)Never need no (No), no onе else, babeCausе Ill be[Chorus]Switchin them positions for youCookin in the kitchen and Im in the bedroomIm in the Olympics, way Im jumpin through hoopsKnow my love infinite, nothin I wouldnt doThat I wont do, switchin for youCookin in the kitchen and Im in the bedroomIm in the Olympics, way Im jumpin through hoopsKnow my love infinite, nothin I wouldnt do (Nothin)That I wont do, switchin for you[Bridge]This some shit that I usually dont do (Yeah)But for you, I kinda, kinda want to (Mmm)Cause youre down for me and Im down too (And Im down too)Yeah, Im down tooSwitchin the positions for youThis some shit that I (Yeah) usually dont do (Dont do)But for you, I kinda, kinda want to (Mmm)Cause youre down for me and Im down too (Cause youre down for me)[Chorus]Switchin them positions for youCookin in the kitchen and Im in the bedroomIm in the Olympics, way Im jumpin through hoops (Jumpin, jumpin)Know my love infinite, nothin I wouldnt doThat I wont do, switchin for you (Ooh woah)Cookin in the kitchen and Im in the bedroomIm in the Olympics, way Im jumpin through hoopsKnow my love infinite, nothin I wouldnt do (I wouldnt do)That I wont do, switchin for you[Outro]YeahAh, yeahAh (Ah), yeah'"
      ]
     },
     "execution_count": 1,
     "metadata": {},
     "output_type": "execute_result"
    }
   ],
   "source": [
    "import pandas as pd\n",
    "import string \n",
    "import nltk\n",
    "from nltk.sentiment.vader import SentimentIntensityAnalyzer\n",
    "from nltk import word_tokenize\n",
    "from nltk.tokenize import word_tokenize\n",
    "from nltk.stem import WordNetLemmatizer \n",
    "from nltk.corpus import stopwords\n",
    "nltk.download('stopwords')\n",
    "nltk.download('wordnet') \n",
    "nltk.download('vader_lexicon')\n",
    "nltk.download('punkt')\n",
    "df_all = pd.read_csv('df_all.csv')\n",
    "# An example\n",
    "df_all['song_lyrics_text'][3]"
   ]
  },
  {
   "cell_type": "code",
   "execution_count": 2,
   "metadata": {},
   "outputs": [],
   "source": [
    "def clean_lyrics(df,column):\n",
    "    \"\"\"\n",
    "    This function cleans the words without importance and fix the format of the  dataframe's column lyrics \n",
    "    parameters:\n",
    "    df = dataframe\n",
    "    column = name of the column to clean\n",
    "    \"\"\"\n",
    "    df = df\n",
    "    df[column] = df[column].str.lower()\n",
    "    df[column] = df[column].str.replace(r\"verse |[1|2|3]|chorus|bridge|outro\",\"\").str.replace(\"[\",\"\").str.replace(\"]\",\"\")\n",
    "    df[column] = df[column].str.lower().str.replace(r\"instrumental|intro|guitar|solo\",\"\")\n",
    "    df[column] = df[column].str.replace(\"\\n\",\" \").str.replace(r\"[^\\w\\d'\\s]+\",\"\").str.replace(\"efil ym fo flah\",\"\")\n",
    "    df[column] = df[column].str.strip()\n",
    "    return df"
   ]
  },
  {
   "cell_type": "code",
   "execution_count": 3,
   "metadata": {},
   "outputs": [
    {
     "name": "stderr",
     "output_type": "stream",
     "text": [
      "<ipython-input-2-223fff7c1943>:10: FutureWarning: The default value of regex will change from True to False in a future version.\n",
      "  df[column] = df[column].str.replace(r\"verse |[1|2|3]|chorus|bridge|outro\",\"\").str.replace(\"[\",\"\").str.replace(\"]\",\"\")\n",
      "<ipython-input-2-223fff7c1943>:10: FutureWarning: The default value of regex will change from True to False in a future version. In addition, single character regular expressions will*not* be treated as literal strings when regex=True.\n",
      "  df[column] = df[column].str.replace(r\"verse |[1|2|3]|chorus|bridge|outro\",\"\").str.replace(\"[\",\"\").str.replace(\"]\",\"\")\n",
      "<ipython-input-2-223fff7c1943>:11: FutureWarning: The default value of regex will change from True to False in a future version.\n",
      "  df[column] = df[column].str.lower().str.replace(r\"instrumental|intro|guitar|solo\",\"\")\n",
      "<ipython-input-2-223fff7c1943>:12: FutureWarning: The default value of regex will change from True to False in a future version.\n",
      "  df[column] = df[column].str.replace(\"\\n\",\" \").str.replace(r\"[^\\w\\d'\\s]+\",\"\").str.replace(\"efil ym fo flah\",\"\")\n"
     ]
    }
   ],
   "source": [
    "df_all_v2 = clean_lyrics(df_all,'song_lyrics_text')\n",
    "df_all_v2 = df_all_v2.reset_index(drop=True)"
   ]
  },
  {
   "cell_type": "code",
   "execution_count": 4,
   "metadata": {},
   "outputs": [],
   "source": [
    "def lyrics_to_words(document):\n",
    "    \"\"\"\n",
    "    This function splits the text of lyrics to  single words, removing stopwords and doing the lemmatization to each word\n",
    "    parameters:\n",
    "    document: text to split to single words\n",
    "    \"\"\"\n",
    "    stop_words = set(stopwords.words('english'))\n",
    "    exclude = set(string.punctuation)\n",
    "    lemma = WordNetLemmatizer()\n",
    "    stopwordremoval = \" \".join([i for i in str(document).lower().split() if i not in stop_words])\n",
    "    punctuationremoval = ''.join(ch for ch in stopwordremoval if ch not in exclude)\n",
    "    normalized = \" \".join(lemma.lemmatize(word) for word in punctuationremoval.split())\n",
    "    return normalized"
   ]
  },
  {
   "cell_type": "code",
   "execution_count": 5,
   "metadata": {},
   "outputs": [],
   "source": [
    "def unique(list1): \n",
    "    unique_list = [] \n",
    "    for x in list1: \n",
    "        if x not in unique_list: \n",
    "            unique_list.append(x) \n",
    "    return unique_list"
   ]
  },
  {
   "cell_type": "code",
   "execution_count": 6,
   "metadata": {},
   "outputs": [],
   "source": [
    "words = []\n",
    "\n",
    "for word in df_all_v2['song_lyrics_text'].tolist():\n",
    "    words.append(unique(lyrics_to_words(word).split()))\n",
    "#create the new column with the information of words lists \n",
    "df_all_v2['words'] = words"
   ]
  },
  {
   "cell_type": "code",
   "execution_count": 7,
   "metadata": {},
   "outputs": [],
   "source": [
    "negative = []\n",
    "neutral = []\n",
    "positive = []\n",
    "compound = []\n",
    "\n",
    "sid = SentimentIntensityAnalyzer()\n",
    "df_all_v2.dropna(subset=['song_lyrics_text'], inplace=True)\n",
    "df_all_v2.reset_index(drop=True, inplace=True)"
   ]
  },
  {
   "cell_type": "code",
   "execution_count": 8,
   "metadata": {},
   "outputs": [],
   "source": [
    "for i in df_all_v2.index:\n",
    "    scores = sid.polarity_scores(df_all_v2['song_lyrics_text'].iloc[i])\n",
    "    negative.append(scores['neg'])\n",
    "    neutral.append(scores['neu'])\n",
    "    positive.append(scores['pos'])\n",
    "    compound.append(scores['compound'])\n",
    "\n",
    "df_all_v2['negative'] = negative\n",
    "df_all_v2['neutral'] = neutral\n",
    "df_all_v2['positive'] = positive\n",
    "df_all_v2['compound'] = compound"
   ]
  },
  {
   "cell_type": "code",
   "execution_count": 9,
   "metadata": {},
   "outputs": [],
   "source": [
    "df_all_v2.drop(columns=['song_url', 'song_lyrics_text', 'words'], inplace=True)\n",
    "df_all_v2['stats_hot'] = df_all_v2['stats_hot'].map({False: 0, True: 1})"
   ]
  },
  {
   "cell_type": "code",
   "execution_count": 10,
   "metadata": {},
   "outputs": [],
   "source": [
    "df_all_v2.to_csv('df_all_cleaned_lyrics.csv')"
   ]
  }
 ],
 "metadata": {
  "kernelspec": {
   "display_name": "Python 3",
   "language": "python",
   "name": "python3"
  },
  "language_info": {
   "codemirror_mode": {
    "name": "ipython",
    "version": 3
   },
   "file_extension": ".py",
   "mimetype": "text/x-python",
   "name": "python",
   "nbconvert_exporter": "python",
   "pygments_lexer": "ipython3",
   "version": "3.8.6"
  }
 },
 "nbformat": 4,
 "nbformat_minor": 4
}
