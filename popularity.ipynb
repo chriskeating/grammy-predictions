{
 "cells": [
  {
   "cell_type": "markdown",
   "metadata": {},
   "source": [
    "## Import packages and data"
   ]
  },
  {
   "cell_type": "code",
   "execution_count": 1,
   "metadata": {},
   "outputs": [],
   "source": [
    "import pandas as pd\n",
    "import numpy as np\n",
    "import matplotlib.pyplot as plt\n",
    "import seaborn as sns\n",
    "import ast\n",
    "import plotly.express as px\n",
    "\n",
    "df = pd.read_csv('data.csv')\n",
    "df_w_genres = pd.read_csv('data_w_genres.csv')\n",
    "df_year = pd.read_csv('data_by_year.csv')\n",
    "df_by_genres = pd.read_csv('data_by_genres.csv')\n",
    "df_artist = pd.read_csv('data_by_artist.csv')"
   ]
  },
  {
   "cell_type": "markdown",
   "metadata": {},
   "source": [
    "## Look at correlations"
   ]
  },
  {
   "cell_type": "code",
   "execution_count": 2,
   "metadata": {},
   "outputs": [
    {
     "data": {
      "text/html": [
       "<div>\n",
       "<style scoped>\n",
       "    .dataframe tbody tr th:only-of-type {\n",
       "        vertical-align: middle;\n",
       "    }\n",
       "\n",
       "    .dataframe tbody tr th {\n",
       "        vertical-align: top;\n",
       "    }\n",
       "\n",
       "    .dataframe thead th {\n",
       "        text-align: right;\n",
       "    }\n",
       "</style>\n",
       "<table border=\"1\" class=\"dataframe\">\n",
       "  <thead>\n",
       "    <tr style=\"text-align: right;\">\n",
       "      <th></th>\n",
       "      <th>valence</th>\n",
       "      <th>year</th>\n",
       "      <th>acousticness</th>\n",
       "      <th>danceability</th>\n",
       "      <th>duration_ms</th>\n",
       "      <th>energy</th>\n",
       "      <th>explicit</th>\n",
       "      <th>instrumentalness</th>\n",
       "      <th>key</th>\n",
       "      <th>liveness</th>\n",
       "      <th>loudness</th>\n",
       "      <th>mode</th>\n",
       "      <th>popularity</th>\n",
       "      <th>speechiness</th>\n",
       "      <th>tempo</th>\n",
       "    </tr>\n",
       "  </thead>\n",
       "  <tbody>\n",
       "    <tr>\n",
       "      <th>valence</th>\n",
       "      <td>1.000000</td>\n",
       "      <td>-0.028245</td>\n",
       "      <td>-0.184101</td>\n",
       "      <td>0.558946</td>\n",
       "      <td>-0.191813</td>\n",
       "      <td>0.353876</td>\n",
       "      <td>-0.018613</td>\n",
       "      <td>-0.198501</td>\n",
       "      <td>0.028473</td>\n",
       "      <td>0.003832</td>\n",
       "      <td>0.313512</td>\n",
       "      <td>0.015641</td>\n",
       "      <td>0.014200</td>\n",
       "      <td>0.046381</td>\n",
       "      <td>0.171689</td>\n",
       "    </tr>\n",
       "    <tr>\n",
       "      <th>year</th>\n",
       "      <td>-0.028245</td>\n",
       "      <td>1.000000</td>\n",
       "      <td>-0.614250</td>\n",
       "      <td>0.188515</td>\n",
       "      <td>0.079713</td>\n",
       "      <td>0.530272</td>\n",
       "      <td>0.220881</td>\n",
       "      <td>-0.272371</td>\n",
       "      <td>0.007540</td>\n",
       "      <td>-0.057318</td>\n",
       "      <td>0.487697</td>\n",
       "      <td>-0.032385</td>\n",
       "      <td>0.862442</td>\n",
       "      <td>-0.167816</td>\n",
       "      <td>0.141048</td>\n",
       "    </tr>\n",
       "    <tr>\n",
       "      <th>acousticness</th>\n",
       "      <td>-0.184101</td>\n",
       "      <td>-0.614250</td>\n",
       "      <td>1.000000</td>\n",
       "      <td>-0.266852</td>\n",
       "      <td>-0.076373</td>\n",
       "      <td>-0.749393</td>\n",
       "      <td>-0.246007</td>\n",
       "      <td>0.329819</td>\n",
       "      <td>-0.020550</td>\n",
       "      <td>-0.024482</td>\n",
       "      <td>-0.561696</td>\n",
       "      <td>0.047168</td>\n",
       "      <td>-0.573162</td>\n",
       "      <td>-0.043980</td>\n",
       "      <td>-0.207120</td>\n",
       "    </tr>\n",
       "    <tr>\n",
       "      <th>danceability</th>\n",
       "      <td>0.558946</td>\n",
       "      <td>0.188515</td>\n",
       "      <td>-0.266852</td>\n",
       "      <td>1.000000</td>\n",
       "      <td>-0.139937</td>\n",
       "      <td>0.221967</td>\n",
       "      <td>0.241757</td>\n",
       "      <td>-0.278063</td>\n",
       "      <td>0.024439</td>\n",
       "      <td>-0.100193</td>\n",
       "      <td>0.285057</td>\n",
       "      <td>-0.045956</td>\n",
       "      <td>0.199606</td>\n",
       "      <td>0.235491</td>\n",
       "      <td>0.001801</td>\n",
       "    </tr>\n",
       "    <tr>\n",
       "      <th>duration_ms</th>\n",
       "      <td>-0.191813</td>\n",
       "      <td>0.079713</td>\n",
       "      <td>-0.076373</td>\n",
       "      <td>-0.139937</td>\n",
       "      <td>1.000000</td>\n",
       "      <td>0.042119</td>\n",
       "      <td>-0.048880</td>\n",
       "      <td>0.084770</td>\n",
       "      <td>-0.004266</td>\n",
       "      <td>0.047168</td>\n",
       "      <td>-0.003037</td>\n",
       "      <td>-0.046085</td>\n",
       "      <td>0.059597</td>\n",
       "      <td>-0.084604</td>\n",
       "      <td>-0.025472</td>\n",
       "    </tr>\n",
       "    <tr>\n",
       "      <th>energy</th>\n",
       "      <td>0.353876</td>\n",
       "      <td>0.530272</td>\n",
       "      <td>-0.749393</td>\n",
       "      <td>0.221967</td>\n",
       "      <td>0.042119</td>\n",
       "      <td>1.000000</td>\n",
       "      <td>0.132723</td>\n",
       "      <td>-0.281101</td>\n",
       "      <td>0.027705</td>\n",
       "      <td>0.126192</td>\n",
       "      <td>0.782362</td>\n",
       "      <td>-0.039260</td>\n",
       "      <td>0.485005</td>\n",
       "      <td>-0.070555</td>\n",
       "      <td>0.250865</td>\n",
       "    </tr>\n",
       "    <tr>\n",
       "      <th>explicit</th>\n",
       "      <td>-0.018613</td>\n",
       "      <td>0.220881</td>\n",
       "      <td>-0.246007</td>\n",
       "      <td>0.241757</td>\n",
       "      <td>-0.048880</td>\n",
       "      <td>0.132723</td>\n",
       "      <td>1.000000</td>\n",
       "      <td>-0.140987</td>\n",
       "      <td>0.005432</td>\n",
       "      <td>0.039640</td>\n",
       "      <td>0.140300</td>\n",
       "      <td>-0.078872</td>\n",
       "      <td>0.191543</td>\n",
       "      <td>0.414070</td>\n",
       "      <td>0.011969</td>\n",
       "    </tr>\n",
       "    <tr>\n",
       "      <th>instrumentalness</th>\n",
       "      <td>-0.198501</td>\n",
       "      <td>-0.272371</td>\n",
       "      <td>0.329819</td>\n",
       "      <td>-0.278063</td>\n",
       "      <td>0.084770</td>\n",
       "      <td>-0.281101</td>\n",
       "      <td>-0.140987</td>\n",
       "      <td>1.000000</td>\n",
       "      <td>-0.014591</td>\n",
       "      <td>-0.047193</td>\n",
       "      <td>-0.408611</td>\n",
       "      <td>-0.036543</td>\n",
       "      <td>-0.296750</td>\n",
       "      <td>-0.121700</td>\n",
       "      <td>-0.105361</td>\n",
       "    </tr>\n",
       "    <tr>\n",
       "      <th>key</th>\n",
       "      <td>0.028473</td>\n",
       "      <td>0.007540</td>\n",
       "      <td>-0.020550</td>\n",
       "      <td>0.024439</td>\n",
       "      <td>-0.004266</td>\n",
       "      <td>0.027705</td>\n",
       "      <td>0.005432</td>\n",
       "      <td>-0.014591</td>\n",
       "      <td>1.000000</td>\n",
       "      <td>0.000205</td>\n",
       "      <td>0.017385</td>\n",
       "      <td>-0.116260</td>\n",
       "      <td>0.007826</td>\n",
       "      <td>0.023784</td>\n",
       "      <td>0.002629</td>\n",
       "    </tr>\n",
       "    <tr>\n",
       "      <th>liveness</th>\n",
       "      <td>0.003832</td>\n",
       "      <td>-0.057318</td>\n",
       "      <td>-0.024482</td>\n",
       "      <td>-0.100193</td>\n",
       "      <td>0.047168</td>\n",
       "      <td>0.126192</td>\n",
       "      <td>0.039640</td>\n",
       "      <td>-0.047193</td>\n",
       "      <td>0.000205</td>\n",
       "      <td>1.000000</td>\n",
       "      <td>0.056422</td>\n",
       "      <td>0.002641</td>\n",
       "      <td>-0.076464</td>\n",
       "      <td>0.134667</td>\n",
       "      <td>0.007714</td>\n",
       "    </tr>\n",
       "    <tr>\n",
       "      <th>loudness</th>\n",
       "      <td>0.313512</td>\n",
       "      <td>0.487697</td>\n",
       "      <td>-0.561696</td>\n",
       "      <td>0.285057</td>\n",
       "      <td>-0.003037</td>\n",
       "      <td>0.782362</td>\n",
       "      <td>0.140300</td>\n",
       "      <td>-0.408611</td>\n",
       "      <td>0.017385</td>\n",
       "      <td>0.056422</td>\n",
       "      <td>1.000000</td>\n",
       "      <td>-0.010727</td>\n",
       "      <td>0.457051</td>\n",
       "      <td>-0.139296</td>\n",
       "      <td>0.209774</td>\n",
       "    </tr>\n",
       "    <tr>\n",
       "      <th>mode</th>\n",
       "      <td>0.015641</td>\n",
       "      <td>-0.032385</td>\n",
       "      <td>0.047168</td>\n",
       "      <td>-0.045956</td>\n",
       "      <td>-0.046085</td>\n",
       "      <td>-0.039260</td>\n",
       "      <td>-0.078872</td>\n",
       "      <td>-0.036543</td>\n",
       "      <td>-0.116260</td>\n",
       "      <td>0.002641</td>\n",
       "      <td>-0.010727</td>\n",
       "      <td>1.000000</td>\n",
       "      <td>-0.028897</td>\n",
       "      <td>-0.057796</td>\n",
       "      <td>0.011637</td>\n",
       "    </tr>\n",
       "    <tr>\n",
       "      <th>popularity</th>\n",
       "      <td>0.014200</td>\n",
       "      <td>0.862442</td>\n",
       "      <td>-0.573162</td>\n",
       "      <td>0.199606</td>\n",
       "      <td>0.059597</td>\n",
       "      <td>0.485005</td>\n",
       "      <td>0.191543</td>\n",
       "      <td>-0.296750</td>\n",
       "      <td>0.007826</td>\n",
       "      <td>-0.076464</td>\n",
       "      <td>0.457051</td>\n",
       "      <td>-0.028897</td>\n",
       "      <td>1.000000</td>\n",
       "      <td>-0.171979</td>\n",
       "      <td>0.133310</td>\n",
       "    </tr>\n",
       "    <tr>\n",
       "      <th>speechiness</th>\n",
       "      <td>0.046381</td>\n",
       "      <td>-0.167816</td>\n",
       "      <td>-0.043980</td>\n",
       "      <td>0.235491</td>\n",
       "      <td>-0.084604</td>\n",
       "      <td>-0.070555</td>\n",
       "      <td>0.414070</td>\n",
       "      <td>-0.121700</td>\n",
       "      <td>0.023784</td>\n",
       "      <td>0.134667</td>\n",
       "      <td>-0.139296</td>\n",
       "      <td>-0.057796</td>\n",
       "      <td>-0.171979</td>\n",
       "      <td>1.000000</td>\n",
       "      <td>-0.011523</td>\n",
       "    </tr>\n",
       "    <tr>\n",
       "      <th>tempo</th>\n",
       "      <td>0.171689</td>\n",
       "      <td>0.141048</td>\n",
       "      <td>-0.207120</td>\n",
       "      <td>0.001801</td>\n",
       "      <td>-0.025472</td>\n",
       "      <td>0.250865</td>\n",
       "      <td>0.011969</td>\n",
       "      <td>-0.105361</td>\n",
       "      <td>0.002629</td>\n",
       "      <td>0.007714</td>\n",
       "      <td>0.209774</td>\n",
       "      <td>0.011637</td>\n",
       "      <td>0.133310</td>\n",
       "      <td>-0.011523</td>\n",
       "      <td>1.000000</td>\n",
       "    </tr>\n",
       "  </tbody>\n",
       "</table>\n",
       "</div>"
      ],
      "text/plain": [
       "                   valence      year  acousticness  danceability  duration_ms  \\\n",
       "valence           1.000000 -0.028245     -0.184101      0.558946    -0.191813   \n",
       "year             -0.028245  1.000000     -0.614250      0.188515     0.079713   \n",
       "acousticness     -0.184101 -0.614250      1.000000     -0.266852    -0.076373   \n",
       "danceability      0.558946  0.188515     -0.266852      1.000000    -0.139937   \n",
       "duration_ms      -0.191813  0.079713     -0.076373     -0.139937     1.000000   \n",
       "energy            0.353876  0.530272     -0.749393      0.221967     0.042119   \n",
       "explicit         -0.018613  0.220881     -0.246007      0.241757    -0.048880   \n",
       "instrumentalness -0.198501 -0.272371      0.329819     -0.278063     0.084770   \n",
       "key               0.028473  0.007540     -0.020550      0.024439    -0.004266   \n",
       "liveness          0.003832 -0.057318     -0.024482     -0.100193     0.047168   \n",
       "loudness          0.313512  0.487697     -0.561696      0.285057    -0.003037   \n",
       "mode              0.015641 -0.032385      0.047168     -0.045956    -0.046085   \n",
       "popularity        0.014200  0.862442     -0.573162      0.199606     0.059597   \n",
       "speechiness       0.046381 -0.167816     -0.043980      0.235491    -0.084604   \n",
       "tempo             0.171689  0.141048     -0.207120      0.001801    -0.025472   \n",
       "\n",
       "                    energy  explicit  instrumentalness       key  liveness  \\\n",
       "valence           0.353876 -0.018613         -0.198501  0.028473  0.003832   \n",
       "year              0.530272  0.220881         -0.272371  0.007540 -0.057318   \n",
       "acousticness     -0.749393 -0.246007          0.329819 -0.020550 -0.024482   \n",
       "danceability      0.221967  0.241757         -0.278063  0.024439 -0.100193   \n",
       "duration_ms       0.042119 -0.048880          0.084770 -0.004266  0.047168   \n",
       "energy            1.000000  0.132723         -0.281101  0.027705  0.126192   \n",
       "explicit          0.132723  1.000000         -0.140987  0.005432  0.039640   \n",
       "instrumentalness -0.281101 -0.140987          1.000000 -0.014591 -0.047193   \n",
       "key               0.027705  0.005432         -0.014591  1.000000  0.000205   \n",
       "liveness          0.126192  0.039640         -0.047193  0.000205  1.000000   \n",
       "loudness          0.782362  0.140300         -0.408611  0.017385  0.056422   \n",
       "mode             -0.039260 -0.078872         -0.036543 -0.116260  0.002641   \n",
       "popularity        0.485005  0.191543         -0.296750  0.007826 -0.076464   \n",
       "speechiness      -0.070555  0.414070         -0.121700  0.023784  0.134667   \n",
       "tempo             0.250865  0.011969         -0.105361  0.002629  0.007714   \n",
       "\n",
       "                  loudness      mode  popularity  speechiness     tempo  \n",
       "valence           0.313512  0.015641    0.014200     0.046381  0.171689  \n",
       "year              0.487697 -0.032385    0.862442    -0.167816  0.141048  \n",
       "acousticness     -0.561696  0.047168   -0.573162    -0.043980 -0.207120  \n",
       "danceability      0.285057 -0.045956    0.199606     0.235491  0.001801  \n",
       "duration_ms      -0.003037 -0.046085    0.059597    -0.084604 -0.025472  \n",
       "energy            0.782362 -0.039260    0.485005    -0.070555  0.250865  \n",
       "explicit          0.140300 -0.078872    0.191543     0.414070  0.011969  \n",
       "instrumentalness -0.408611 -0.036543   -0.296750    -0.121700 -0.105361  \n",
       "key               0.017385 -0.116260    0.007826     0.023784  0.002629  \n",
       "liveness          0.056422  0.002641   -0.076464     0.134667  0.007714  \n",
       "loudness          1.000000 -0.010727    0.457051    -0.139296  0.209774  \n",
       "mode             -0.010727  1.000000   -0.028897    -0.057796  0.011637  \n",
       "popularity        0.457051 -0.028897    1.000000    -0.171979  0.133310  \n",
       "speechiness      -0.139296 -0.057796   -0.171979     1.000000 -0.011523  \n",
       "tempo             0.209774  0.011637    0.133310    -0.011523  1.000000  "
      ]
     },
     "execution_count": 2,
     "metadata": {},
     "output_type": "execute_result"
    }
   ],
   "source": [
    "df.corr()"
   ]
  },
  {
   "cell_type": "code",
   "execution_count": 3,
   "metadata": {},
   "outputs": [
    {
     "data": {
      "image/png": "[encoded data removed]",
      "text/plain": [
       "<Figure size 1080x720 with 2 Axes>"
      ]
     },
     "metadata": {
      "needs_background": "light"
     },
     "output_type": "display_data"
    }
   ],
   "source": [
    "mask = np.zeros_like(df.corr())\n",
    "mask[np.triu_indices_from(mask)] = True\n",
    "\n",
    "plt.figure(figsize=(15, 10))\n",
    "sns.heatmap(\n",
    "    df.corr(),\n",
    "    cmap='coolwarm',\n",
    "    annot=True,\n",
    "    mask=mask,\n",
    "    vmin=-1.,\n",
    "    vmax=1.\n",
    ");"
   ]
  },
  {
   "cell_type": "markdown",
   "metadata": {},
   "source": [
    "### Of all the metrics contained in this table, popularity is probably the most interesting as a dependent variable. It may be interesting to augment this popularity rating with other metrics - how else could we quantify a song being \"popular\"? \n",
    "- Number of plays\n",
    "- Landing on the Billboard Top 100 charts\n",
    "- Prominence in pop culture (harder to quantify, but I can imagine something like \"propensity to be played at parties\", so perhaps volume at which the song is played)\n",
    "\n",
    "#### Let's start with a simple one and bring in the Billboard Top 100 Chart for every week "
   ]
  },
  {
   "cell_type": "code",
   "execution_count": 4,
   "metadata": {},
   "outputs": [],
   "source": [
    "# import requests\n",
    "# from bs4 import BeautifulSoup\n",
    "# r = requests.get('https://www.billboard.com/charts/year-end/top-hummed')\n",
    "# soup = BeautifulSoup(r.text, 'html.parser')\n",
    "# soup.findAll(\"span\", {\"class_\": \"chart-element__information__song text--truncate color--primary\"})"
   ]
  },
  {
   "cell_type": "code",
   "execution_count": null,
   "metadata": {},
   "outputs": [],
   "source": []
  },
  {
   "cell_type": "markdown",
   "metadata": {},
   "source": [
    "## Modify/simplify genres"
   ]
  },
  {
   "cell_type": "code",
   "execution_count": 5,
   "metadata": {},
   "outputs": [
    {
     "name": "stdout",
     "output_type": "stream",
     "text": [
      "len before:  28680\n",
      "len after:  18823\n"
     ]
    }
   ],
   "source": [
    "print('len before: ', len(df_w_genres))\n",
    "df_w_genres = df_w_genres[df_w_genres['genres'] !='[]']\n",
    "print('len after: ', len(df_w_genres))"
   ]
  },
  {
   "cell_type": "code",
   "execution_count": 7,
   "metadata": {},
   "outputs": [],
   "source": [
    "df_w_genres.reset_index(drop=True, inplace=True)\n",
    "df_w_genres['genre_summary'] = df_w_genres['genres'].copy()\n",
    "df_w_genres['genre_summary'] = df_w_genres['genres'].apply(lambda x: ast.literal_eval(x)[0].split(' ')[-1])\n",
    "\n",
    "df_w_genres = df_w_genres[df_w_genres['genre_summary'] != 'music']\n",
    "df_w_genres = df_w_genres[df_w_genres['genre_summary'] != 'band']\n",
    "df_w_genres = df_w_genres[df_w_genres['genre_summary'] != 'corrido']\n",
    "df_w_genres['genre_summary'] = df_w_genres['genre_summary'].replace(['hop'],'hip hop')\n",
    "df_w_genres['genre_summary'] = df_w_genres['genre_summary'].replace(['standards'],'jazz')\n",
    "df_w_genres['genre_summary'] = df_w_genres['genre_summary'].replace(['performance'],'classical')\n",
    "df_w_genres['genre_summary'] = df_w_genres['genre_summary'].replace(['folk'],'folk music')\n",
    "df_w_genres['genre_summary'] = df_w_genres['genre_summary'].replace(['tunes'],'show tunes')\n",
    "\n",
    "values = df_w_genres['genre_summary'].value_counts()\n",
    "df_w_genres['genre_summary_num'] = df_w_genres['genre_summary'].apply(lambda x: values[x])\n",
    "pd.set_option('display.max_rows', 1000)\n",
    "df_w_genres = df_w_genres[df_w_genres['genre_summary_num'] > 500]\n",
    "df_w_genres.drop(columns=['genres', 'genre_summary_num'], inplace=True)\n",
    "df_w_genres.reset_index(inplace=True, drop=True)"
   ]
  },
  {
   "cell_type": "code",
   "execution_count": 9,
   "metadata": {},
   "outputs": [],
   "source": [
    "# df.head()\n",
    "# df_w_genres.head()\n",
    "# df_year.head()\n",
    "# df_by_genres.head()\n",
    "# df_artist.head()"
   ]
  },
  {
   "cell_type": "code",
   "execution_count": 40,
   "metadata": {},
   "outputs": [
    {
     "data": {
      "text/html": [
       "<div>\n",
       "<style scoped>\n",
       "    .dataframe tbody tr th:only-of-type {\n",
       "        vertical-align: middle;\n",
       "    }\n",
       "\n",
       "    .dataframe tbody tr th {\n",
       "        vertical-align: top;\n",
       "    }\n",
       "\n",
       "    .dataframe thead th {\n",
       "        text-align: right;\n",
       "    }\n",
       "</style>\n",
       "<table border=\"1\" class=\"dataframe\">\n",
       "  <thead>\n",
       "    <tr style=\"text-align: right;\">\n",
       "      <th></th>\n",
       "      <th>genre_summary</th>\n",
       "      <th>acousticness</th>\n",
       "      <th>danceability</th>\n",
       "      <th>duration_ms</th>\n",
       "      <th>energy</th>\n",
       "      <th>instrumentalness</th>\n",
       "      <th>liveness</th>\n",
       "      <th>loudness</th>\n",
       "      <th>speechiness</th>\n",
       "      <th>tempo</th>\n",
       "      <th>valence</th>\n",
       "      <th>popularity</th>\n",
       "      <th>key</th>\n",
       "      <th>mode</th>\n",
       "      <th>count</th>\n",
       "    </tr>\n",
       "  </thead>\n",
       "  <tbody>\n",
       "    <tr>\n",
       "      <th>0</th>\n",
       "      <td>blues</td>\n",
       "      <td>0.583444</td>\n",
       "      <td>0.584681</td>\n",
       "      <td>218139.096291</td>\n",
       "      <td>0.462482</td>\n",
       "      <td>0.106723</td>\n",
       "      <td>0.201068</td>\n",
       "      <td>-11.36178</td>\n",
       "      <td>0.066793</td>\n",
       "      <td>117.540331</td>\n",
       "      <td>0.639181</td>\n",
       "      <td>28.93812</td>\n",
       "      <td>5.219828</td>\n",
       "      <td>0.818966</td>\n",
       "      <td>22.064655</td>\n",
       "    </tr>\n",
       "  </tbody>\n",
       "</table>\n",
       "</div>"
      ],
      "text/plain": [
       "  genre_summary  acousticness  danceability    duration_ms    energy  \\\n",
       "0         blues      0.583444      0.584681  218139.096291  0.462482   \n",
       "\n",
       "   instrumentalness  liveness  loudness  speechiness       tempo   valence  \\\n",
       "0          0.106723  0.201068 -11.36178     0.066793  117.540331  0.639181   \n",
       "\n",
       "   popularity       key      mode      count  \n",
       "0    28.93812  5.219828  0.818966  22.064655  "
      ]
     },
     "execution_count": 40,
     "metadata": {},
     "output_type": "execute_result"
    }
   ],
   "source": [
    "pd.set_option('display.max_columns', None)\n",
    "grouped = df_w_genres.groupby('genre_summary').aggregate(['mean'])\n",
    "grouped.columns = grouped.columns.get_level_values(0)\n",
    "grouped.reset_index(inplace=True)\n",
    "grouped.head(1)"
   ]
  },
  {
   "cell_type": "code",
   "execution_count": 41,
   "metadata": {},
   "outputs": [
    {
     "data": {
      "application/vnd.plotly.v1+json": {
       "config": {
        "plotlyServerURL": "https://plot.ly"
       },
       "data": [
        {
         "hovertemplate": "genre_summary=%{text}<br>acousticness=%{x}<br>danceability=%{y}<br>speechiness=%{z}<extra></extra>",
         "legendgroup": "blues",
         "marker": {
          "color": "#636efa",
          "symbol": "circle"
         },
         "mode": "markers+text",
         "name": "blues",
         "scene": "scene",
         "showlegend": true,
         "text": [
          "blues"
         ],
         "textposition": "top center",
         "type": "scatter3d",
         "x": [
          0.5834440141602036
         ],
         "y": [
          0.5846806319299652
         ],
         "z": [
          0.06679261243673569
         ]
        },
        {
         "hovertemplate": "genre_summary=%{text}<br>acousticness=%{x}<br>danceability=%{y}<br>speechiness=%{z}<extra></extra>",
         "legendgroup": "broadway",
         "marker": {
          "color": "#EF553B",
          "symbol": "circle"
         },
         "mode": "markers+text",
         "name": "broadway",
         "scene": "scene",
         "showlegend": true,
         "text": [
          "broadway"
         ],
         "textposition": "top center",
         "type": "scatter3d",
         "x": [
          0.6291862375501055
         ],
         "y": [
          0.5190299598752489
         ],
         "z": [
          0.14479766379484624
         ]
        },
        {
         "hovertemplate": "genre_summary=%{text}<br>acousticness=%{x}<br>danceability=%{y}<br>speechiness=%{z}<extra></extra>",
         "legendgroup": "classical",
         "marker": {
          "color": "#00cc96",
          "symbol": "circle"
         },
         "mode": "markers+text",
         "name": "classical",
         "scene": "scene",
         "showlegend": true,
         "text": [
          "classical"
         ],
         "textposition": "top center",
         "type": "scatter3d",
         "x": [
          0.9144222739753185
         ],
         "y": [
          0.3140660310732717
         ],
         "z": [
          0.05554342455843885
         ]
        },
        {
         "hovertemplate": "genre_summary=%{text}<br>acousticness=%{x}<br>danceability=%{y}<br>speechiness=%{z}<extra></extra>",
         "legendgroup": "country",
         "marker": {
          "color": "#ab63fa",
          "symbol": "circle"
         },
         "mode": "markers+text",
         "name": "country",
         "scene": "scene",
         "showlegend": true,
         "text": [
          "country"
         ],
         "textposition": "top center",
         "type": "scatter3d",
         "x": [
          0.32267979284680454
         ],
         "y": [
          0.5807180251758618
         ],
         "z": [
          0.0475543044852526
         ]
        },
        {
         "hovertemplate": "genre_summary=%{text}<br>acousticness=%{x}<br>danceability=%{y}<br>speechiness=%{z}<extra></extra>",
         "legendgroup": "dance",
         "marker": {
          "color": "#FFA15A",
          "symbol": "circle"
         },
         "mode": "markers+text",
         "name": "dance",
         "scene": "scene",
         "showlegend": true,
         "text": [
          "dance"
         ],
         "textposition": "top center",
         "type": "scatter3d",
         "x": [
          0.13138872900011733
         ],
         "y": [
          0.6256918853726536
         ],
         "z": [
          0.057802974544845134
         ]
        },
        {
         "hovertemplate": "genre_summary=%{text}<br>acousticness=%{x}<br>danceability=%{y}<br>speechiness=%{z}<extra></extra>",
         "legendgroup": "folk music",
         "marker": {
          "color": "#19d3f3",
          "symbol": "circle"
         },
         "mode": "markers+text",
         "name": "folk music",
         "scene": "scene",
         "showlegend": true,
         "text": [
          "folk music"
         ],
         "textposition": "top center",
         "type": "scatter3d",
         "x": [
          0.656704762363149
         ],
         "y": [
          0.536637559736955
         ],
         "z": [
          0.06714761491962723
         ]
        },
        {
         "hovertemplate": "genre_summary=%{text}<br>acousticness=%{x}<br>danceability=%{y}<br>speechiness=%{z}<extra></extra>",
         "legendgroup": "funk",
         "marker": {
          "color": "#FF6692",
          "symbol": "circle"
         },
         "mode": "markers+text",
         "name": "funk",
         "scene": "scene",
         "showlegend": true,
         "text": [
          "funk"
         ],
         "textposition": "top center",
         "type": "scatter3d",
         "x": [
          0.2581284609160261
         ],
         "y": [
          0.660817206165827
         ],
         "z": [
          0.09987771818766249
         ]
        },
        {
         "hovertemplate": "genre_summary=%{text}<br>acousticness=%{x}<br>danceability=%{y}<br>speechiness=%{z}<extra></extra>",
         "legendgroup": "gospel",
         "marker": {
          "color": "#B6E880",
          "symbol": "circle"
         },
         "mode": "markers+text",
         "name": "gospel",
         "scene": "scene",
         "showlegend": true,
         "text": [
          "gospel"
         ],
         "textposition": "top center",
         "type": "scatter3d",
         "x": [
          0.4149911017936961
         ],
         "y": [
          0.4907483156463792
         ],
         "z": [
          0.07830104093512939
         ]
        },
        {
         "hovertemplate": "genre_summary=%{text}<br>acousticness=%{x}<br>danceability=%{y}<br>speechiness=%{z}<extra></extra>",
         "legendgroup": "hip hop",
         "marker": {
          "color": "#FF97FF",
          "symbol": "circle"
         },
         "mode": "markers+text",
         "name": "hip hop",
         "scene": "scene",
         "showlegend": true,
         "text": [
          "hip hop"
         ],
         "textposition": "top center",
         "type": "scatter3d",
         "x": [
          0.17478721120489144
         ],
         "y": [
          0.721694057442525
         ],
         "z": [
          0.2119544026772101
         ]
        },
        {
         "hovertemplate": "genre_summary=%{text}<br>acousticness=%{x}<br>danceability=%{y}<br>speechiness=%{z}<extra></extra>",
         "legendgroup": "house",
         "marker": {
          "color": "#FECB52",
          "symbol": "circle"
         },
         "mode": "markers+text",
         "name": "house",
         "scene": "scene",
         "showlegend": true,
         "text": [
          "house"
         ],
         "textposition": "top center",
         "type": "scatter3d",
         "x": [
          0.09686011416836621
         ],
         "y": [
          0.7042675414964489
         ],
         "z": [
          0.07955429199893826
         ]
        },
        {
         "hovertemplate": "genre_summary=%{text}<br>acousticness=%{x}<br>danceability=%{y}<br>speechiness=%{z}<extra></extra>",
         "legendgroup": "indie",
         "marker": {
          "color": "#636efa",
          "symbol": "circle"
         },
         "mode": "markers+text",
         "name": "indie",
         "scene": "scene",
         "showlegend": true,
         "text": [
          "indie"
         ],
         "textposition": "top center",
         "type": "scatter3d",
         "x": [
          0.3021308645404473
         ],
         "y": [
          0.5767149715508146
         ],
         "z": [
          0.06522082723708882
         ]
        },
        {
         "hovertemplate": "genre_summary=%{text}<br>acousticness=%{x}<br>danceability=%{y}<br>speechiness=%{z}<extra></extra>",
         "legendgroup": "jazz",
         "marker": {
          "color": "#EF553B",
          "symbol": "circle"
         },
         "mode": "markers+text",
         "name": "jazz",
         "scene": "scene",
         "showlegend": true,
         "text": [
          "jazz"
         ],
         "textposition": "top center",
         "type": "scatter3d",
         "x": [
          0.6512016671178347
         ],
         "y": [
          0.5252395593656167
         ],
         "z": [
          0.055166239209300375
         ]
        },
        {
         "hovertemplate": "genre_summary=%{text}<br>acousticness=%{x}<br>danceability=%{y}<br>speechiness=%{z}<extra></extra>",
         "legendgroup": "latin",
         "marker": {
          "color": "#00cc96",
          "symbol": "circle"
         },
         "mode": "markers+text",
         "name": "latin",
         "scene": "scene",
         "showlegend": true,
         "text": [
          "latin"
         ],
         "textposition": "top center",
         "type": "scatter3d",
         "x": [
          0.2928301213289811
         ],
         "y": [
          0.6774596224073193
         ],
         "z": [
          0.09487637992893132
         ]
        },
        {
         "hovertemplate": "genre_summary=%{text}<br>acousticness=%{x}<br>danceability=%{y}<br>speechiness=%{z}<extra></extra>",
         "legendgroup": "metal",
         "marker": {
          "color": "#ab63fa",
          "symbol": "circle"
         },
         "mode": "markers+text",
         "name": "metal",
         "scene": "scene",
         "showlegend": true,
         "text": [
          "metal"
         ],
         "textposition": "top center",
         "type": "scatter3d",
         "x": [
          0.06156409607772416
         ],
         "y": [
          0.4446332330255016
         ],
         "z": [
          0.08311532692090928
         ]
        },
        {
         "hovertemplate": "genre_summary=%{text}<br>acousticness=%{x}<br>danceability=%{y}<br>speechiness=%{z}<extra></extra>",
         "legendgroup": "orchestra",
         "marker": {
          "color": "#FFA15A",
          "symbol": "circle"
         },
         "mode": "markers+text",
         "name": "orchestra",
         "scene": "scene",
         "showlegend": true,
         "text": [
          "orchestra"
         ],
         "textposition": "top center",
         "type": "scatter3d",
         "x": [
          0.8906680054423881
         ],
         "y": [
          0.2911727186991661
         ],
         "z": [
          0.051821910868466485
         ]
        },
        {
         "hovertemplate": "genre_summary=%{text}<br>acousticness=%{x}<br>danceability=%{y}<br>speechiness=%{z}<extra></extra>",
         "legendgroup": "piano",
         "marker": {
          "color": "#19d3f3",
          "symbol": "circle"
         },
         "mode": "markers+text",
         "name": "piano",
         "scene": "scene",
         "showlegend": true,
         "text": [
          "piano"
         ],
         "textposition": "top center",
         "type": "scatter3d",
         "x": [
          0.959541657115522
         ],
         "y": [
          0.3588380813268607
         ],
         "z": [
          0.04804478103565952
         ]
        },
        {
         "hovertemplate": "genre_summary=%{text}<br>acousticness=%{x}<br>danceability=%{y}<br>speechiness=%{z}<extra></extra>",
         "legendgroup": "pop",
         "marker": {
          "color": "#FF6692",
          "symbol": "circle"
         },
         "mode": "markers+text",
         "name": "pop",
         "scene": "scene",
         "showlegend": true,
         "text": [
          "pop"
         ],
         "textposition": "top center",
         "type": "scatter3d",
         "x": [
          0.352774347721613
         ],
         "y": [
          0.5955082153413123
         ],
         "z": [
          0.07195983582420877
         ]
        },
        {
         "hovertemplate": "genre_summary=%{text}<br>acousticness=%{x}<br>danceability=%{y}<br>speechiness=%{z}<extra></extra>",
         "legendgroup": "punk",
         "marker": {
          "color": "#B6E880",
          "symbol": "circle"
         },
         "mode": "markers+text",
         "name": "punk",
         "scene": "scene",
         "showlegend": true,
         "text": [
          "punk"
         ],
         "textposition": "top center",
         "type": "scatter3d",
         "x": [
          0.12373801789828984
         ],
         "y": [
          0.4858120334333007
         ],
         "z": [
          0.08545427829651542
         ]
        },
        {
         "hovertemplate": "genre_summary=%{text}<br>acousticness=%{x}<br>danceability=%{y}<br>speechiness=%{z}<extra></extra>",
         "legendgroup": "r&b",
         "marker": {
          "color": "#FF97FF",
          "symbol": "circle"
         },
         "mode": "markers+text",
         "name": "r&b",
         "scene": "scene",
         "showlegend": true,
         "text": [
          "r&b"
         ],
         "textposition": "top center",
         "type": "scatter3d",
         "x": [
          0.32505030473863145
         ],
         "y": [
          0.6557713431687863
         ],
         "z": [
          0.13002584779566015
         ]
        },
        {
         "hovertemplate": "genre_summary=%{text}<br>acousticness=%{x}<br>danceability=%{y}<br>speechiness=%{z}<extra></extra>",
         "legendgroup": "rap",
         "marker": {
          "color": "#FECB52",
          "symbol": "circle"
         },
         "mode": "markers+text",
         "name": "rap",
         "scene": "scene",
         "showlegend": true,
         "text": [
          "rap"
         ],
         "textposition": "top center",
         "type": "scatter3d",
         "x": [
          0.18060317281789487
         ],
         "y": [
          0.7330424682567136
         ],
         "z": [
          0.2004024391082515
         ]
        },
        {
         "hovertemplate": "genre_summary=%{text}<br>acousticness=%{x}<br>danceability=%{y}<br>speechiness=%{z}<extra></extra>",
         "legendgroup": "rock",
         "marker": {
          "color": "#636efa",
          "symbol": "circle"
         },
         "mode": "markers+text",
         "name": "rock",
         "scene": "scene",
         "showlegend": true,
         "text": [
          "rock"
         ],
         "textposition": "top center",
         "type": "scatter3d",
         "x": [
          0.21824928390546317
         ],
         "y": [
          0.5344595175790511
         ],
         "z": [
          0.05859407481363062
         ]
        },
        {
         "hovertemplate": "genre_summary=%{text}<br>acousticness=%{x}<br>danceability=%{y}<br>speechiness=%{z}<extra></extra>",
         "legendgroup": "show tunes",
         "marker": {
          "color": "#EF553B",
          "symbol": "circle"
         },
         "mode": "markers+text",
         "name": "show tunes",
         "scene": "scene",
         "showlegend": true,
         "text": [
          "show tunes"
         ],
         "textposition": "top center",
         "type": "scatter3d",
         "x": [
          0.6424834820658685
         ],
         "y": [
          0.5309460753199681
         ],
         "z": [
          0.14960253108448787
         ]
        },
        {
         "hovertemplate": "genre_summary=%{text}<br>acousticness=%{x}<br>danceability=%{y}<br>speechiness=%{z}<extra></extra>",
         "legendgroup": "soul",
         "marker": {
          "color": "#00cc96",
          "symbol": "circle"
         },
         "mode": "markers+text",
         "name": "soul",
         "scene": "scene",
         "showlegend": true,
         "text": [
          "soul"
         ],
         "textposition": "top center",
         "type": "scatter3d",
         "x": [
          0.38084308371815506
         ],
         "y": [
          0.6121513805692447
         ],
         "z": [
          0.06751853783241266
         ]
        },
        {
         "hovertemplate": "genre_summary=%{text}<br>acousticness=%{x}<br>danceability=%{y}<br>speechiness=%{z}<extra></extra>",
         "legendgroup": "trap",
         "marker": {
          "color": "#ab63fa",
          "symbol": "circle"
         },
         "mode": "markers+text",
         "name": "trap",
         "scene": "scene",
         "showlegend": true,
         "text": [
          "trap"
         ],
         "textposition": "top center",
         "type": "scatter3d",
         "x": [
          0.1338746288308291
         ],
         "y": [
          0.6938191955595426
         ],
         "z": [
          0.1707100369165981
         ]
        }
       ],
       "layout": {
        "autosize": true,
        "legend": {
         "title": {
          "text": "genre_summary"
         },
         "tracegroupgap": 0
        },
        "margin": {
         "t": 60
        },
        "scene": {
         "aspectmode": "auto",
         "aspectratio": {
          "x": 1,
          "y": 1,
          "z": 1
         },
         "camera": {
          "center": {
           "x": 0,
           "y": 0,
           "z": 0
          },
          "eye": {
           "x": -1.920726859175059,
           "y": -1.170820964789646,
           "z": 0.6498155331624582
          },
          "projection": {
           "type": "perspective"
          },
          "up": {
           "x": 0.004064225803880003,
           "y": -0.0006549385554428526,
           "z": 0.999991526526152
          }
         },
         "domain": {
          "x": [
           0,
           1
          ],
          "y": [
           0,
           1
          ]
         },
         "xaxis": {
          "title": {
           "text": "acousticness"
          },
          "type": "linear"
         },
         "yaxis": {
          "title": {
           "text": "danceability"
          },
          "type": "linear"
         },
         "zaxis": {
          "title": {
           "text": "speechiness"
          },
          "type": "linear"
         }
        },
        "showlegend": false,
        "template": {
         "data": {
          "bar": [
           {
            "error_x": {
             "color": "#2a3f5f"
            },
            "error_y": {
             "color": "#2a3f5f"
            },
            "marker": {
             "line": {
              "color": "#E5ECF6",
              "width": 0.5
             }
            },
            "type": "bar"
           }
          ],
          "barpolar": [
           {
            "marker": {
             "line": {
              "color": "#E5ECF6",
              "width": 0.5
             }
            },
            "type": "barpolar"
           }
          ],
          "carpet": [
           {
            "aaxis": {
             "endlinecolor": "#2a3f5f",
             "gridcolor": "white",
             "linecolor": "white",
             "minorgridcolor": "white",
             "startlinecolor": "#2a3f5f"
            },
            "baxis": {
             "endlinecolor": "#2a3f5f",
             "gridcolor": "white",
             "linecolor": "white",
             "minorgridcolor": "white",
             "startlinecolor": "#2a3f5f"
            },
            "type": "carpet"
           }
          ],
          "choropleth": [
           {
            "colorbar": {
             "outlinewidth": 0,
             "ticks": ""
            },
            "type": "choropleth"
           }
          ],
          "contour": [
           {
            "colorbar": {
             "outlinewidth": 0,
             "ticks": ""
            },
            "colorscale": [
             [
              0,
              "#0d0887"
             ],
             [
              0.1111111111111111,
              "#46039f"
             ],
             [
              0.2222222222222222,
              "#7201a8"
             ],
             [
              0.3333333333333333,
              "#9c179e"
             ],
             [
              0.4444444444444444,
              "#bd3786"
             ],
             [
              0.5555555555555556,
              "#d8576b"
             ],
             [
              0.6666666666666666,
              "#ed7953"
             ],
             [
              0.7777777777777778,
              "#fb9f3a"
             ],
             [
              0.8888888888888888,
              "#fdca26"
             ],
             [
              1,
              "#f0f921"
             ]
            ],
            "type": "contour"
           }
          ],
          "contourcarpet": [
           {
            "colorbar": {
             "outlinewidth": 0,
             "ticks": ""
            },
            "type": "contourcarpet"
           }
          ],
          "heatmap": [
           {
            "colorbar": {
             "outlinewidth": 0,
             "ticks": ""
            },
            "colorscale": [
             [
              0,
              "#0d0887"
             ],
             [
              0.1111111111111111,
              "#46039f"
             ],
             [
              0.2222222222222222,
              "#7201a8"
             ],
             [
              0.3333333333333333,
              "#9c179e"
             ],
             [
              0.4444444444444444,
              "#bd3786"
             ],
             [
              0.5555555555555556,
              "#d8576b"
             ],
             [
              0.6666666666666666,
              "#ed7953"
             ],
             [
              0.7777777777777778,
              "#fb9f3a"
             ],
             [
              0.8888888888888888,
              "#fdca26"
             ],
             [
              1,
              "#f0f921"
             ]
            ],
            "type": "heatmap"
           }
          ],
          "heatmapgl": [
           {
            "colorbar": {
             "outlinewidth": 0,
             "ticks": ""
            },
            "colorscale": [
             [
              0,
              "#0d0887"
             ],
             [
              0.1111111111111111,
              "#46039f"
             ],
             [
              0.2222222222222222,
              "#7201a8"
             ],
             [
              0.3333333333333333,
              "#9c179e"
             ],
             [
              0.4444444444444444,
              "#bd3786"
             ],
             [
              0.5555555555555556,
              "#d8576b"
             ],
             [
              0.6666666666666666,
              "#ed7953"
             ],
             [
              0.7777777777777778,
              "#fb9f3a"
             ],
             [
              0.8888888888888888,
              "#fdca26"
             ],
             [
              1,
              "#f0f921"
             ]
            ],
            "type": "heatmapgl"
           }
          ],
          "histogram": [
           {
            "marker": {
             "colorbar": {
              "outlinewidth": 0,
              "ticks": ""
             }
            },
            "type": "histogram"
           }
          ],
          "histogram2d": [
           {
            "colorbar": {
             "outlinewidth": 0,
             "ticks": ""
            },
            "colorscale": [
             [
              0,
              "#0d0887"
             ],
             [
              0.1111111111111111,
              "#46039f"
             ],
             [
              0.2222222222222222,
              "#7201a8"
             ],
             [
              0.3333333333333333,
              "#9c179e"
             ],
             [
              0.4444444444444444,
              "#bd3786"
             ],
             [
              0.5555555555555556,
              "#d8576b"
             ],
             [
              0.6666666666666666,
              "#ed7953"
             ],
             [
              0.7777777777777778,
              "#fb9f3a"
             ],
             [
              0.8888888888888888,
              "#fdca26"
             ],
             [
              1,
              "#f0f921"
             ]
            ],
            "type": "histogram2d"
           }
          ],
          "histogram2dcontour": [
           {
            "colorbar": {
             "outlinewidth": 0,
             "ticks": ""
            },
            "colorscale": [
             [
              0,
              "#0d0887"
             ],
             [
              0.1111111111111111,
              "#46039f"
             ],
             [
              0.2222222222222222,
              "#7201a8"
             ],
             [
              0.3333333333333333,
              "#9c179e"
             ],
             [
              0.4444444444444444,
              "#bd3786"
             ],
             [
              0.5555555555555556,
              "#d8576b"
             ],
             [
              0.6666666666666666,
              "#ed7953"
             ],
             [
              0.7777777777777778,
              "#fb9f3a"
             ],
             [
              0.8888888888888888,
              "#fdca26"
             ],
             [
              1,
              "#f0f921"
             ]
            ],
            "type": "histogram2dcontour"
           }
          ],
          "mesh3d": [
           {
            "colorbar": {
             "outlinewidth": 0,
             "ticks": ""
            },
            "type": "mesh3d"
           }
          ],
          "parcoords": [
           {
            "line": {
             "colorbar": {
              "outlinewidth": 0,
              "ticks": ""
             }
            },
            "type": "parcoords"
           }
          ],
          "pie": [
           {
            "automargin": true,
            "type": "pie"
           }
          ],
          "scatter": [
           {
            "marker": {
             "colorbar": {
              "outlinewidth": 0,
              "ticks": ""
             }
            },
            "type": "scatter"
           }
          ],
          "scatter3d": [
           {
            "line": {
             "colorbar": {
              "outlinewidth": 0,
              "ticks": ""
             }
            },
            "marker": {
             "colorbar": {
              "outlinewidth": 0,
              "ticks": ""
             }
            },
            "type": "scatter3d"
           }
          ],
          "scattercarpet": [
           {
            "marker": {
             "colorbar": {
              "outlinewidth": 0,
              "ticks": ""
             }
            },
            "type": "scattercarpet"
           }
          ],
          "scattergeo": [
           {
            "marker": {
             "colorbar": {
              "outlinewidth": 0,
              "ticks": ""
             }
            },
            "type": "scattergeo"
           }
          ],
          "scattergl": [
           {
            "marker": {
             "colorbar": {
              "outlinewidth": 0,
              "ticks": ""
             }
            },
            "type": "scattergl"
           }
          ],
          "scattermapbox": [
           {
            "marker": {
             "colorbar": {
              "outlinewidth": 0,
              "ticks": ""
             }
            },
            "type": "scattermapbox"
           }
          ],
          "scatterpolar": [
           {
            "marker": {
             "colorbar": {
              "outlinewidth": 0,
              "ticks": ""
             }
            },
            "type": "scatterpolar"
           }
          ],
          "scatterpolargl": [
           {
            "marker": {
             "colorbar": {
              "outlinewidth": 0,
              "ticks": ""
             }
            },
            "type": "scatterpolargl"
           }
          ],
          "scatterternary": [
           {
            "marker": {
             "colorbar": {
              "outlinewidth": 0,
              "ticks": ""
             }
            },
            "type": "scatterternary"
           }
          ],
          "surface": [
           {
            "colorbar": {
             "outlinewidth": 0,
             "ticks": ""
            },
            "colorscale": [
             [
              0,
              "#0d0887"
             ],
             [
              0.1111111111111111,
              "#46039f"
             ],
             [
              0.2222222222222222,
              "#7201a8"
             ],
             [
              0.3333333333333333,
              "#9c179e"
             ],
             [
              0.4444444444444444,
              "#bd3786"
             ],
             [
              0.5555555555555556,
              "#d8576b"
             ],
             [
              0.6666666666666666,
              "#ed7953"
             ],
             [
              0.7777777777777778,
              "#fb9f3a"
             ],
             [
              0.8888888888888888,
              "#fdca26"
             ],
             [
              1,
              "#f0f921"
             ]
            ],
            "type": "surface"
           }
          ],
          "table": [
           {
            "cells": {
             "fill": {
              "color": "#EBF0F8"
             },
             "line": {
              "color": "white"
             }
            },
            "header": {
             "fill": {
              "color": "#C8D4E3"
             },
             "line": {
              "color": "white"
             }
            },
            "type": "table"
           }
          ]
         },
         "layout": {
          "annotationdefaults": {
           "arrowcolor": "#2a3f5f",
           "arrowhead": 0,
           "arrowwidth": 1
          },
          "autotypenumbers": "strict",
          "coloraxis": {
           "colorbar": {
            "outlinewidth": 0,
            "ticks": ""
           }
          },
          "colorscale": {
           "diverging": [
            [
             0,
             "#8e0152"
            ],
            [
             0.1,
             "#c51b7d"
            ],
            [
             0.2,
             "#de77ae"
            ],
            [
             0.3,
             "#f1b6da"
            ],
            [
             0.4,
             "#fde0ef"
            ],
            [
             0.5,
             "#f7f7f7"
            ],
            [
             0.6,
             "#e6f5d0"
            ],
            [
             0.7,
             "#b8e186"
            ],
            [
             0.8,
             "#7fbc41"
            ],
            [
             0.9,
             "#4d9221"
            ],
            [
             1,
             "#276419"
            ]
           ],
           "sequential": [
            [
             0,
             "#0d0887"
            ],
            [
             0.1111111111111111,
             "#46039f"
            ],
            [
             0.2222222222222222,
             "#7201a8"
            ],
            [
             0.3333333333333333,
             "#9c179e"
            ],
            [
             0.4444444444444444,
             "#bd3786"
            ],
            [
             0.5555555555555556,
             "#d8576b"
            ],
            [
             0.6666666666666666,
             "#ed7953"
            ],
            [
             0.7777777777777778,
             "#fb9f3a"
            ],
            [
             0.8888888888888888,
             "#fdca26"
            ],
            [
             1,
             "#f0f921"
            ]
           ],
           "sequentialminus": [
            [
             0,
             "#0d0887"
            ],
            [
             0.1111111111111111,
             "#46039f"
            ],
            [
             0.2222222222222222,
             "#7201a8"
            ],
            [
             0.3333333333333333,
             "#9c179e"
            ],
            [
             0.4444444444444444,
             "#bd3786"
            ],
            [
             0.5555555555555556,
             "#d8576b"
            ],
            [
             0.6666666666666666,
             "#ed7953"
            ],
            [
             0.7777777777777778,
             "#fb9f3a"
            ],
            [
             0.8888888888888888,
             "#fdca26"
            ],
            [
             1,
             "#f0f921"
            ]
           ]
          },
          "colorway": [
           "#636efa",
           "#EF553B",
           "#00cc96",
           "#ab63fa",
           "#FFA15A",
           "#19d3f3",
           "#FF6692",
           "#B6E880",
           "#FF97FF",
           "#FECB52"
          ],
          "font": {
           "color": "#2a3f5f"
          },
          "geo": {
           "bgcolor": "white",
           "lakecolor": "white",
           "landcolor": "#E5ECF6",
           "showlakes": true,
           "showland": true,
           "subunitcolor": "white"
          },
          "hoverlabel": {
           "align": "left"
          },
          "hovermode": "closest",
          "mapbox": {
           "style": "light"
          },
          "paper_bgcolor": "white",
          "plot_bgcolor": "#E5ECF6",
          "polar": {
           "angularaxis": {
            "gridcolor": "white",
            "linecolor": "white",
            "ticks": ""
           },
           "bgcolor": "#E5ECF6",
           "radialaxis": {
            "gridcolor": "white",
            "linecolor": "white",
            "ticks": ""
           }
          },
          "scene": {
           "xaxis": {
            "backgroundcolor": "#E5ECF6",
            "gridcolor": "white",
            "gridwidth": 2,
            "linecolor": "white",
            "showbackground": true,
            "ticks": "",
            "zerolinecolor": "white"
           },
           "yaxis": {
            "backgroundcolor": "#E5ECF6",
            "gridcolor": "white",
            "gridwidth": 2,
            "linecolor": "white",
            "showbackground": true,
            "ticks": "",
            "zerolinecolor": "white"
           },
           "zaxis": {
            "backgroundcolor": "#E5ECF6",
            "gridcolor": "white",
            "gridwidth": 2,
            "linecolor": "white",
            "showbackground": true,
            "ticks": "",
            "zerolinecolor": "white"
           }
          },
          "shapedefaults": {
           "line": {
            "color": "#2a3f5f"
           }
          },
          "ternary": {
           "aaxis": {
            "gridcolor": "white",
            "linecolor": "white",
            "ticks": ""
           },
           "baxis": {
            "gridcolor": "white",
            "linecolor": "white",
            "ticks": ""
           },
           "bgcolor": "#E5ECF6",
           "caxis": {
            "gridcolor": "white",
            "linecolor": "white",
            "ticks": ""
           }
          },
          "title": {
           "x": 0.05
          },
          "xaxis": {
           "automargin": true,
           "gridcolor": "white",
           "linecolor": "white",
           "ticks": "",
           "title": {
            "standoff": 15
           },
           "zerolinecolor": "white",
           "zerolinewidth": 2
          },
          "yaxis": {
           "automargin": true,
           "gridcolor": "white",
           "linecolor": "white",
           "ticks": "",
           "title": {
            "standoff": 15
           },
           "zerolinecolor": "white",
           "zerolinewidth": 2
          }
         }
        }
       }
      },
      "image/png": "[encoded data removed]",
      "text/html": [
       "<div>                            <div id=\"26cc26fc-cbfe-45c8-8947-810c01587c48\" class=\"plotly-graph-div\" style=\"height:525px; width:100%;\"></div>            <script type=\"text/javascript\">                require([\"plotly\"], function(Plotly) {                    window.PLOTLYENV=window.PLOTLYENV || {};                                    if (document.getElementById(\"26cc26fc-cbfe-45c8-8947-810c01587c48\")) {                    Plotly.newPlot(                        \"26cc26fc-cbfe-45c8-8947-810c01587c48\",                        [{\"hovertemplate\": \"genre_summary=%{text}<br>acousticness=%{x}<br>danceability=%{y}<br>speechiness=%{z}<extra></extra>\", \"legendgroup\": \"blues\", \"marker\": {\"color\": \"#636efa\", \"symbol\": \"circle\"}, \"mode\": \"markers+text\", \"name\": \"blues\", \"scene\": \"scene\", \"showlegend\": true, \"text\": [\"blues\"], \"textposition\": \"top center\", \"type\": \"scatter3d\", \"x\": [0.5834440141602036], \"y\": [0.5846806319299652], \"z\": [0.06679261243673569]}, {\"hovertemplate\": \"genre_summary=%{text}<br>acousticness=%{x}<br>danceability=%{y}<br>speechiness=%{z}<extra></extra>\", \"legendgroup\": \"broadway\", \"marker\": {\"color\": \"#EF553B\", \"symbol\": \"circle\"}, \"mode\": \"markers+text\", \"name\": \"broadway\", \"scene\": \"scene\", \"showlegend\": true, \"text\": [\"broadway\"], \"textposition\": \"top center\", \"type\": \"scatter3d\", \"x\": [0.6291862375501055], \"y\": [0.5190299598752489], \"z\": [0.14479766379484624]}, {\"hovertemplate\": \"genre_summary=%{text}<br>acousticness=%{x}<br>danceability=%{y}<br>speechiness=%{z}<extra></extra>\", \"legendgroup\": \"classical\", \"marker\": {\"color\": \"#00cc96\", \"symbol\": \"circle\"}, \"mode\": \"markers+text\", \"name\": \"classical\", \"scene\": \"scene\", \"showlegend\": true, \"text\": [\"classical\"], \"textposition\": \"top center\", \"type\": \"scatter3d\", \"x\": [0.9144222739753185], \"y\": [0.3140660310732717], \"z\": [0.05554342455843885]}, {\"hovertemplate\": \"genre_summary=%{text}<br>acousticness=%{x}<br>danceability=%{y}<br>speechiness=%{z}<extra></extra>\", \"legendgroup\": \"country\", \"marker\": {\"color\": \"#ab63fa\", \"symbol\": \"circle\"}, \"mode\": \"markers+text\", \"name\": \"country\", \"scene\": \"scene\", \"showlegend\": true, \"text\": [\"country\"], \"textposition\": \"top center\", \"type\": \"scatter3d\", \"x\": [0.32267979284680454], \"y\": [0.5807180251758618], \"z\": [0.0475543044852526]}, {\"hovertemplate\": \"genre_summary=%{text}<br>acousticness=%{x}<br>danceability=%{y}<br>speechiness=%{z}<extra></extra>\", \"legendgroup\": \"dance\", \"marker\": {\"color\": \"#FFA15A\", \"symbol\": \"circle\"}, \"mode\": \"markers+text\", \"name\": \"dance\", \"scene\": \"scene\", \"showlegend\": true, \"text\": [\"dance\"], \"textposition\": \"top center\", \"type\": \"scatter3d\", \"x\": [0.13138872900011733], \"y\": [0.6256918853726536], \"z\": [0.057802974544845134]}, {\"hovertemplate\": \"genre_summary=%{text}<br>acousticness=%{x}<br>danceability=%{y}<br>speechiness=%{z}<extra></extra>\", \"legendgroup\": \"folk music\", \"marker\": {\"color\": \"#19d3f3\", \"symbol\": \"circle\"}, \"mode\": \"markers+text\", \"name\": \"folk music\", \"scene\": \"scene\", \"showlegend\": true, \"text\": [\"folk music\"], \"textposition\": \"top center\", \"type\": \"scatter3d\", \"x\": [0.656704762363149], \"y\": [0.536637559736955], \"z\": [0.06714761491962723]}, {\"hovertemplate\": \"genre_summary=%{text}<br>acousticness=%{x}<br>danceability=%{y}<br>speechiness=%{z}<extra></extra>\", \"legendgroup\": \"funk\", \"marker\": {\"color\": \"#FF6692\", \"symbol\": \"circle\"}, \"mode\": \"markers+text\", \"name\": \"funk\", \"scene\": \"scene\", \"showlegend\": true, \"text\": [\"funk\"], \"textposition\": \"top center\", \"type\": \"scatter3d\", \"x\": [0.2581284609160261], \"y\": [0.660817206165827], \"z\": [0.09987771818766249]}, {\"hovertemplate\": \"genre_summary=%{text}<br>acousticness=%{x}<br>danceability=%{y}<br>speechiness=%{z}<extra></extra>\", \"legendgroup\": \"gospel\", \"marker\": {\"color\": \"#B6E880\", \"symbol\": \"circle\"}, \"mode\": \"markers+text\", \"name\": \"gospel\", \"scene\": \"scene\", \"showlegend\": true, \"text\": [\"gospel\"], \"textposition\": \"top center\", \"type\": \"scatter3d\", \"x\": [0.4149911017936961], \"y\": [0.4907483156463792], \"z\": [0.07830104093512939]}, {\"hovertemplate\": \"genre_summary=%{text}<br>acousticness=%{x}<br>danceability=%{y}<br>speechiness=%{z}<extra></extra>\", \"legendgroup\": \"hip hop\", \"marker\": {\"color\": \"#FF97FF\", \"symbol\": \"circle\"}, \"mode\": \"markers+text\", \"name\": \"hip hop\", \"scene\": \"scene\", \"showlegend\": true, \"text\": [\"hip hop\"], \"textposition\": \"top center\", \"type\": \"scatter3d\", \"x\": [0.17478721120489144], \"y\": [0.721694057442525], \"z\": [0.2119544026772101]}, {\"hovertemplate\": \"genre_summary=%{text}<br>acousticness=%{x}<br>danceability=%{y}<br>speechiness=%{z}<extra></extra>\", \"legendgroup\": \"house\", \"marker\": {\"color\": \"#FECB52\", \"symbol\": \"circle\"}, \"mode\": \"markers+text\", \"name\": \"house\", \"scene\": \"scene\", \"showlegend\": true, \"text\": [\"house\"], \"textposition\": \"top center\", \"type\": \"scatter3d\", \"x\": [0.09686011416836621], \"y\": [0.7042675414964489], \"z\": [0.07955429199893826]}, {\"hovertemplate\": \"genre_summary=%{text}<br>acousticness=%{x}<br>danceability=%{y}<br>speechiness=%{z}<extra></extra>\", \"legendgroup\": \"indie\", \"marker\": {\"color\": \"#636efa\", \"symbol\": \"circle\"}, \"mode\": \"markers+text\", \"name\": \"indie\", \"scene\": \"scene\", \"showlegend\": true, \"text\": [\"indie\"], \"textposition\": \"top center\", \"type\": \"scatter3d\", \"x\": [0.3021308645404473], \"y\": [0.5767149715508146], \"z\": [0.06522082723708882]}, {\"hovertemplate\": \"genre_summary=%{text}<br>acousticness=%{x}<br>danceability=%{y}<br>speechiness=%{z}<extra></extra>\", \"legendgroup\": \"jazz\", \"marker\": {\"color\": \"#EF553B\", \"symbol\": \"circle\"}, \"mode\": \"markers+text\", \"name\": \"jazz\", \"scene\": \"scene\", \"showlegend\": true, \"text\": [\"jazz\"], \"textposition\": \"top center\", \"type\": \"scatter3d\", \"x\": [0.6512016671178347], \"y\": [0.5252395593656167], \"z\": [0.055166239209300375]}, {\"hovertemplate\": \"genre_summary=%{text}<br>acousticness=%{x}<br>danceability=%{y}<br>speechiness=%{z}<extra></extra>\", \"legendgroup\": \"latin\", \"marker\": {\"color\": \"#00cc96\", \"symbol\": \"circle\"}, \"mode\": \"markers+text\", \"name\": \"latin\", \"scene\": \"scene\", \"showlegend\": true, \"text\": [\"latin\"], \"textposition\": \"top center\", \"type\": \"scatter3d\", \"x\": [0.2928301213289811], \"y\": [0.6774596224073193], \"z\": [0.09487637992893132]}, {\"hovertemplate\": \"genre_summary=%{text}<br>acousticness=%{x}<br>danceability=%{y}<br>speechiness=%{z}<extra></extra>\", \"legendgroup\": \"metal\", \"marker\": {\"color\": \"#ab63fa\", \"symbol\": \"circle\"}, \"mode\": \"markers+text\", \"name\": \"metal\", \"scene\": \"scene\", \"showlegend\": true, \"text\": [\"metal\"], \"textposition\": \"top center\", \"type\": \"scatter3d\", \"x\": [0.06156409607772416], \"y\": [0.4446332330255016], \"z\": [0.08311532692090928]}, {\"hovertemplate\": \"genre_summary=%{text}<br>acousticness=%{x}<br>danceability=%{y}<br>speechiness=%{z}<extra></extra>\", \"legendgroup\": \"orchestra\", \"marker\": {\"color\": \"#FFA15A\", \"symbol\": \"circle\"}, \"mode\": \"markers+text\", \"name\": \"orchestra\", \"scene\": \"scene\", \"showlegend\": true, \"text\": [\"orchestra\"], \"textposition\": \"top center\", \"type\": \"scatter3d\", \"x\": [0.8906680054423881], \"y\": [0.2911727186991661], \"z\": [0.051821910868466485]}, {\"hovertemplate\": \"genre_summary=%{text}<br>acousticness=%{x}<br>danceability=%{y}<br>speechiness=%{z}<extra></extra>\", \"legendgroup\": \"piano\", \"marker\": {\"color\": \"#19d3f3\", \"symbol\": \"circle\"}, \"mode\": \"markers+text\", \"name\": \"piano\", \"scene\": \"scene\", \"showlegend\": true, \"text\": [\"piano\"], \"textposition\": \"top center\", \"type\": \"scatter3d\", \"x\": [0.959541657115522], \"y\": [0.3588380813268607], \"z\": [0.04804478103565952]}, {\"hovertemplate\": \"genre_summary=%{text}<br>acousticness=%{x}<br>danceability=%{y}<br>speechiness=%{z}<extra></extra>\", \"legendgroup\": \"pop\", \"marker\": {\"color\": \"#FF6692\", \"symbol\": \"circle\"}, \"mode\": \"markers+text\", \"name\": \"pop\", \"scene\": \"scene\", \"showlegend\": true, \"text\": [\"pop\"], \"textposition\": \"top center\", \"type\": \"scatter3d\", \"x\": [0.352774347721613], \"y\": [0.5955082153413123], \"z\": [0.07195983582420877]}, {\"hovertemplate\": \"genre_summary=%{text}<br>acousticness=%{x}<br>danceability=%{y}<br>speechiness=%{z}<extra></extra>\", \"legendgroup\": \"punk\", \"marker\": {\"color\": \"#B6E880\", \"symbol\": \"circle\"}, \"mode\": \"markers+text\", \"name\": \"punk\", \"scene\": \"scene\", \"showlegend\": true, \"text\": [\"punk\"], \"textposition\": \"top center\", \"type\": \"scatter3d\", \"x\": [0.12373801789828984], \"y\": [0.4858120334333007], \"z\": [0.08545427829651542]}, {\"hovertemplate\": \"genre_summary=%{text}<br>acousticness=%{x}<br>danceability=%{y}<br>speechiness=%{z}<extra></extra>\", \"legendgroup\": \"r&b\", \"marker\": {\"color\": \"#FF97FF\", \"symbol\": \"circle\"}, \"mode\": \"markers+text\", \"name\": \"r&b\", \"scene\": \"scene\", \"showlegend\": true, \"text\": [\"r&b\"], \"textposition\": \"top center\", \"type\": \"scatter3d\", \"x\": [0.32505030473863145], \"y\": [0.6557713431687863], \"z\": [0.13002584779566015]}, {\"hovertemplate\": \"genre_summary=%{text}<br>acousticness=%{x}<br>danceability=%{y}<br>speechiness=%{z}<extra></extra>\", \"legendgroup\": \"rap\", \"marker\": {\"color\": \"#FECB52\", \"symbol\": \"circle\"}, \"mode\": \"markers+text\", \"name\": \"rap\", \"scene\": \"scene\", \"showlegend\": true, \"text\": [\"rap\"], \"textposition\": \"top center\", \"type\": \"scatter3d\", \"x\": [0.18060317281789487], \"y\": [0.7330424682567136], \"z\": [0.2004024391082515]}, {\"hovertemplate\": \"genre_summary=%{text}<br>acousticness=%{x}<br>danceability=%{y}<br>speechiness=%{z}<extra></extra>\", \"legendgroup\": \"rock\", \"marker\": {\"color\": \"#636efa\", \"symbol\": \"circle\"}, \"mode\": \"markers+text\", \"name\": \"rock\", \"scene\": \"scene\", \"showlegend\": true, \"text\": [\"rock\"], \"textposition\": \"top center\", \"type\": \"scatter3d\", \"x\": [0.21824928390546317], \"y\": [0.5344595175790511], \"z\": [0.05859407481363062]}, {\"hovertemplate\": \"genre_summary=%{text}<br>acousticness=%{x}<br>danceability=%{y}<br>speechiness=%{z}<extra></extra>\", \"legendgroup\": \"show tunes\", \"marker\": {\"color\": \"#EF553B\", \"symbol\": \"circle\"}, \"mode\": \"markers+text\", \"name\": \"show tunes\", \"scene\": \"scene\", \"showlegend\": true, \"text\": [\"show tunes\"], \"textposition\": \"top center\", \"type\": \"scatter3d\", \"x\": [0.6424834820658685], \"y\": [0.5309460753199681], \"z\": [0.14960253108448787]}, {\"hovertemplate\": \"genre_summary=%{text}<br>acousticness=%{x}<br>danceability=%{y}<br>speechiness=%{z}<extra></extra>\", \"legendgroup\": \"soul\", \"marker\": {\"color\": \"#00cc96\", \"symbol\": \"circle\"}, \"mode\": \"markers+text\", \"name\": \"soul\", \"scene\": \"scene\", \"showlegend\": true, \"text\": [\"soul\"], \"textposition\": \"top center\", \"type\": \"scatter3d\", \"x\": [0.38084308371815506], \"y\": [0.6121513805692447], \"z\": [0.06751853783241266]}, {\"hovertemplate\": \"genre_summary=%{text}<br>acousticness=%{x}<br>danceability=%{y}<br>speechiness=%{z}<extra></extra>\", \"legendgroup\": \"trap\", \"marker\": {\"color\": \"#ab63fa\", \"symbol\": \"circle\"}, \"mode\": \"markers+text\", \"name\": \"trap\", \"scene\": \"scene\", \"showlegend\": true, \"text\": [\"trap\"], \"textposition\": \"top center\", \"type\": \"scatter3d\", \"x\": [0.1338746288308291], \"y\": [0.6938191955595426], \"z\": [0.1707100369165981]}],                        {\"legend\": {\"title\": {\"text\": \"genre_summary\"}, \"tracegroupgap\": 0}, \"margin\": {\"t\": 60}, \"scene\": {\"domain\": {\"x\": [0.0, 1.0], \"y\": [0.0, 1.0]}, \"xaxis\": {\"title\": {\"text\": \"acousticness\"}}, \"yaxis\": {\"title\": {\"text\": \"danceability\"}}, \"zaxis\": {\"title\": {\"text\": \"speechiness\"}}}, \"showlegend\": false, \"template\": {\"data\": {\"bar\": [{\"error_x\": {\"color\": \"#2a3f5f\"}, \"error_y\": {\"color\": \"#2a3f5f\"}, \"marker\": {\"line\": {\"color\": \"#E5ECF6\", \"width\": 0.5}}, \"type\": \"bar\"}], \"barpolar\": [{\"marker\": {\"line\": {\"color\": \"#E5ECF6\", \"width\": 0.5}}, \"type\": \"barpolar\"}], \"carpet\": [{\"aaxis\": {\"endlinecolor\": \"#2a3f5f\", \"gridcolor\": \"white\", \"linecolor\": \"white\", \"minorgridcolor\": \"white\", \"startlinecolor\": \"#2a3f5f\"}, \"baxis\": {\"endlinecolor\": \"#2a3f5f\", \"gridcolor\": \"white\", \"linecolor\": \"white\", \"minorgridcolor\": \"white\", \"startlinecolor\": \"#2a3f5f\"}, \"type\": \"carpet\"}], \"choropleth\": [{\"colorbar\": {\"outlinewidth\": 0, \"ticks\": \"\"}, \"type\": \"choropleth\"}], \"contour\": [{\"colorbar\": {\"outlinewidth\": 0, \"ticks\": \"\"}, \"colorscale\": [[0.0, \"#0d0887\"], [0.1111111111111111, \"#46039f\"], [0.2222222222222222, \"#7201a8\"], [0.3333333333333333, \"#9c179e\"], [0.4444444444444444, \"#bd3786\"], [0.5555555555555556, \"#d8576b\"], [0.6666666666666666, \"#ed7953\"], [0.7777777777777778, \"#fb9f3a\"], [0.8888888888888888, \"#fdca26\"], [1.0, \"#f0f921\"]], \"type\": \"contour\"}], \"contourcarpet\": [{\"colorbar\": {\"outlinewidth\": 0, \"ticks\": \"\"}, \"type\": \"contourcarpet\"}], \"heatmap\": [{\"colorbar\": {\"outlinewidth\": 0, \"ticks\": \"\"}, \"colorscale\": [[0.0, \"#0d0887\"], [0.1111111111111111, \"#46039f\"], [0.2222222222222222, \"#7201a8\"], [0.3333333333333333, \"#9c179e\"], [0.4444444444444444, \"#bd3786\"], [0.5555555555555556, \"#d8576b\"], [0.6666666666666666, \"#ed7953\"], [0.7777777777777778, \"#fb9f3a\"], [0.8888888888888888, \"#fdca26\"], [1.0, \"#f0f921\"]], \"type\": \"heatmap\"}], \"heatmapgl\": [{\"colorbar\": {\"outlinewidth\": 0, \"ticks\": \"\"}, \"colorscale\": [[0.0, \"#0d0887\"], [0.1111111111111111, \"#46039f\"], [0.2222222222222222, \"#7201a8\"], [0.3333333333333333, \"#9c179e\"], [0.4444444444444444, \"#bd3786\"], [0.5555555555555556, \"#d8576b\"], [0.6666666666666666, \"#ed7953\"], [0.7777777777777778, \"#fb9f3a\"], [0.8888888888888888, \"#fdca26\"], [1.0, \"#f0f921\"]], \"type\": \"heatmapgl\"}], \"histogram\": [{\"marker\": {\"colorbar\": {\"outlinewidth\": 0, \"ticks\": \"\"}}, \"type\": \"histogram\"}], \"histogram2d\": [{\"colorbar\": {\"outlinewidth\": 0, \"ticks\": \"\"}, \"colorscale\": [[0.0, \"#0d0887\"], [0.1111111111111111, \"#46039f\"], [0.2222222222222222, \"#7201a8\"], [0.3333333333333333, \"#9c179e\"], [0.4444444444444444, \"#bd3786\"], [0.5555555555555556, \"#d8576b\"], [0.6666666666666666, \"#ed7953\"], [0.7777777777777778, \"#fb9f3a\"], [0.8888888888888888, \"#fdca26\"], [1.0, \"#f0f921\"]], \"type\": \"histogram2d\"}], \"histogram2dcontour\": [{\"colorbar\": {\"outlinewidth\": 0, \"ticks\": \"\"}, \"colorscale\": [[0.0, \"#0d0887\"], [0.1111111111111111, \"#46039f\"], [0.2222222222222222, \"#7201a8\"], [0.3333333333333333, \"#9c179e\"], [0.4444444444444444, \"#bd3786\"], [0.5555555555555556, \"#d8576b\"], [0.6666666666666666, \"#ed7953\"], [0.7777777777777778, \"#fb9f3a\"], [0.8888888888888888, \"#fdca26\"], [1.0, \"#f0f921\"]], \"type\": \"histogram2dcontour\"}], \"mesh3d\": [{\"colorbar\": {\"outlinewidth\": 0, \"ticks\": \"\"}, \"type\": \"mesh3d\"}], \"parcoords\": [{\"line\": {\"colorbar\": {\"outlinewidth\": 0, \"ticks\": \"\"}}, \"type\": \"parcoords\"}], \"pie\": [{\"automargin\": true, \"type\": \"pie\"}], \"scatter\": [{\"marker\": {\"colorbar\": {\"outlinewidth\": 0, \"ticks\": \"\"}}, \"type\": \"scatter\"}], \"scatter3d\": [{\"line\": {\"colorbar\": {\"outlinewidth\": 0, \"ticks\": \"\"}}, \"marker\": {\"colorbar\": {\"outlinewidth\": 0, \"ticks\": \"\"}}, \"type\": \"scatter3d\"}], \"scattercarpet\": [{\"marker\": {\"colorbar\": {\"outlinewidth\": 0, \"ticks\": \"\"}}, \"type\": \"scattercarpet\"}], \"scattergeo\": [{\"marker\": {\"colorbar\": {\"outlinewidth\": 0, \"ticks\": \"\"}}, \"type\": \"scattergeo\"}], \"scattergl\": [{\"marker\": {\"colorbar\": {\"outlinewidth\": 0, \"ticks\": \"\"}}, \"type\": \"scattergl\"}], \"scattermapbox\": [{\"marker\": {\"colorbar\": {\"outlinewidth\": 0, \"ticks\": \"\"}}, \"type\": \"scattermapbox\"}], \"scatterpolar\": [{\"marker\": {\"colorbar\": {\"outlinewidth\": 0, \"ticks\": \"\"}}, \"type\": \"scatterpolar\"}], \"scatterpolargl\": [{\"marker\": {\"colorbar\": {\"outlinewidth\": 0, \"ticks\": \"\"}}, \"type\": \"scatterpolargl\"}], \"scatterternary\": [{\"marker\": {\"colorbar\": {\"outlinewidth\": 0, \"ticks\": \"\"}}, \"type\": \"scatterternary\"}], \"surface\": [{\"colorbar\": {\"outlinewidth\": 0, \"ticks\": \"\"}, \"colorscale\": [[0.0, \"#0d0887\"], [0.1111111111111111, \"#46039f\"], [0.2222222222222222, \"#7201a8\"], [0.3333333333333333, \"#9c179e\"], [0.4444444444444444, \"#bd3786\"], [0.5555555555555556, \"#d8576b\"], [0.6666666666666666, \"#ed7953\"], [0.7777777777777778, \"#fb9f3a\"], [0.8888888888888888, \"#fdca26\"], [1.0, \"#f0f921\"]], \"type\": \"surface\"}], \"table\": [{\"cells\": {\"fill\": {\"color\": \"#EBF0F8\"}, \"line\": {\"color\": \"white\"}}, \"header\": {\"fill\": {\"color\": \"#C8D4E3\"}, \"line\": {\"color\": \"white\"}}, \"type\": \"table\"}]}, \"layout\": {\"annotationdefaults\": {\"arrowcolor\": \"#2a3f5f\", \"arrowhead\": 0, \"arrowwidth\": 1}, \"autotypenumbers\": \"strict\", \"coloraxis\": {\"colorbar\": {\"outlinewidth\": 0, \"ticks\": \"\"}}, \"colorscale\": {\"diverging\": [[0, \"#8e0152\"], [0.1, \"#c51b7d\"], [0.2, \"#de77ae\"], [0.3, \"#f1b6da\"], [0.4, \"#fde0ef\"], [0.5, \"#f7f7f7\"], [0.6, \"#e6f5d0\"], [0.7, \"#b8e186\"], [0.8, \"#7fbc41\"], [0.9, \"#4d9221\"], [1, \"#276419\"]], \"sequential\": [[0.0, \"#0d0887\"], [0.1111111111111111, \"#46039f\"], [0.2222222222222222, \"#7201a8\"], [0.3333333333333333, \"#9c179e\"], [0.4444444444444444, \"#bd3786\"], [0.5555555555555556, \"#d8576b\"], [0.6666666666666666, \"#ed7953\"], [0.7777777777777778, \"#fb9f3a\"], [0.8888888888888888, \"#fdca26\"], [1.0, \"#f0f921\"]], \"sequentialminus\": [[0.0, \"#0d0887\"], [0.1111111111111111, \"#46039f\"], [0.2222222222222222, \"#7201a8\"], [0.3333333333333333, \"#9c179e\"], [0.4444444444444444, \"#bd3786\"], [0.5555555555555556, \"#d8576b\"], [0.6666666666666666, \"#ed7953\"], [0.7777777777777778, \"#fb9f3a\"], [0.8888888888888888, \"#fdca26\"], [1.0, \"#f0f921\"]]}, \"colorway\": [\"#636efa\", \"#EF553B\", \"#00cc96\", \"#ab63fa\", \"#FFA15A\", \"#19d3f3\", \"#FF6692\", \"#B6E880\", \"#FF97FF\", \"#FECB52\"], \"font\": {\"color\": \"#2a3f5f\"}, \"geo\": {\"bgcolor\": \"white\", \"lakecolor\": \"white\", \"landcolor\": \"#E5ECF6\", \"showlakes\": true, \"showland\": true, \"subunitcolor\": \"white\"}, \"hoverlabel\": {\"align\": \"left\"}, \"hovermode\": \"closest\", \"mapbox\": {\"style\": \"light\"}, \"paper_bgcolor\": \"white\", \"plot_bgcolor\": \"#E5ECF6\", \"polar\": {\"angularaxis\": {\"gridcolor\": \"white\", \"linecolor\": \"white\", \"ticks\": \"\"}, \"bgcolor\": \"#E5ECF6\", \"radialaxis\": {\"gridcolor\": \"white\", \"linecolor\": \"white\", \"ticks\": \"\"}}, \"scene\": {\"xaxis\": {\"backgroundcolor\": \"#E5ECF6\", \"gridcolor\": \"white\", \"gridwidth\": 2, \"linecolor\": \"white\", \"showbackground\": true, \"ticks\": \"\", \"zerolinecolor\": \"white\"}, \"yaxis\": {\"backgroundcolor\": \"#E5ECF6\", \"gridcolor\": \"white\", \"gridwidth\": 2, \"linecolor\": \"white\", \"showbackground\": true, \"ticks\": \"\", \"zerolinecolor\": \"white\"}, \"zaxis\": {\"backgroundcolor\": \"#E5ECF6\", \"gridcolor\": \"white\", \"gridwidth\": 2, \"linecolor\": \"white\", \"showbackground\": true, \"ticks\": \"\", \"zerolinecolor\": \"white\"}}, \"shapedefaults\": {\"line\": {\"color\": \"#2a3f5f\"}}, \"ternary\": {\"aaxis\": {\"gridcolor\": \"white\", \"linecolor\": \"white\", \"ticks\": \"\"}, \"baxis\": {\"gridcolor\": \"white\", \"linecolor\": \"white\", \"ticks\": \"\"}, \"bgcolor\": \"#E5ECF6\", \"caxis\": {\"gridcolor\": \"white\", \"linecolor\": \"white\", \"ticks\": \"\"}}, \"title\": {\"x\": 0.05}, \"xaxis\": {\"automargin\": true, \"gridcolor\": \"white\", \"linecolor\": \"white\", \"ticks\": \"\", \"title\": {\"standoff\": 15}, \"zerolinecolor\": \"white\", \"zerolinewidth\": 2}, \"yaxis\": {\"automargin\": true, \"gridcolor\": \"white\", \"linecolor\": \"white\", \"ticks\": \"\", \"title\": {\"standoff\": 15}, \"zerolinecolor\": \"white\", \"zerolinewidth\": 2}}}},                        {\"responsive\": true}                    ).then(function(){\n",
       "                            \n",
       "var gd = document.getElementById('26cc26fc-cbfe-45c8-8947-810c01587c48');\n",
       "var x = new MutationObserver(function (mutations, observer) {{\n",
       "        var display = window.getComputedStyle(gd).display;\n",
       "        if (!display || display === 'none') {{\n",
       "            console.log([gd, 'removed!']);\n",
       "            Plotly.purge(gd);\n",
       "            observer.disconnect();\n",
       "        }}\n",
       "}});\n",
       "\n",
       "// Listen for the removal of the full notebook cells\n",
       "var notebookContainer = gd.closest('#notebook-container');\n",
       "if (notebookContainer) {{\n",
       "    x.observe(notebookContainer, {childList: true});\n",
       "}}\n",
       "\n",
       "// Listen for the clearing of the current output cell\n",
       "var outputEl = gd.closest('.output');\n",
       "if (outputEl) {{\n",
       "    x.observe(outputEl, {childList: true});\n",
       "}}\n",
       "\n",
       "                        })                };                });            </script>        </div>"
      ]
     },
     "metadata": {},
     "output_type": "display_data"
    }
   ],
   "source": [
    "fig = px.scatter_3d(grouped, x='acousticness', y='danceability',  z='speechiness',color='genre_summary', text='genre_summary')\n",
    "fig.update_traces(textposition='top center')\n",
    "fig.update_layout(showlegend=False)\n",
    "fig.show()"
   ]
  },
  {
   "cell_type": "code",
   "execution_count": 78,
   "metadata": {},
   "outputs": [
    {
     "data": {
      "image/png": "[encoded data removed]",
      "text/plain": [
       "<Figure size 432x288 with 1 Axes>"
      ]
     },
     "metadata": {
      "needs_background": "light"
     },
     "output_type": "display_data"
    }
   ],
   "source": [
    "sns.scatterplot(x=grouped['acousticness'], y=grouped['danceability']);"
   ]
  },
  {
   "cell_type": "markdown",
   "metadata": {},
   "source": [
    "# Logistic Regression"
   ]
  },
  {
   "cell_type": "code",
   "execution_count": 70,
   "metadata": {},
   "outputs": [],
   "source": [
    "from sklearn.model_selection import train_test_split\n",
    "X = df_w_genres[['acousticness', 'danceability', 'duration_ms', 'energy','instrumentalness', 'liveness', 'loudness', 'speechiness', 'tempo', 'valence', 'key', 'mode']]\n",
    "# X = df_w_genres[['acousticness', 'danceability', 'duration_ms', 'loudness', 'speechiness', 'tempo', 'valence']]\n",
    "y = df_w_genres['genre_summary']\n",
    "# X_train, X_test, y_train, y_test = train_test_split(X_simple, y, random_state=124)"
   ]
  },
  {
   "cell_type": "code",
   "execution_count": 72,
   "metadata": {},
   "outputs": [
    {
     "data": {
      "text/plain": [
       "0.21560693641618497"
      ]
     },
     "execution_count": 72,
     "metadata": {},
     "output_type": "execute_result"
    }
   ],
   "source": [
    "from sklearn.linear_model import LogisticRegression\n",
    "logreg = LogisticRegression(C=10_000)\n",
    "# logreg.fit(X_train, y_train)\n",
    "logreg.fit(X, y)\n",
    "preds = logreg.predict(X)\n",
    "logreg.score(X, y)"
   ]
  },
  {
   "cell_type": "markdown",
   "metadata": {},
   "source": [
    "## Predicted"
   ]
  },
  {
   "cell_type": "code",
   "execution_count": 73,
   "metadata": {},
   "outputs": [
    {
     "data": {
      "text/plain": [
       "array([['classical', 262],\n",
       "       ['pop', 7708],\n",
       "       ['rock', 2410]], dtype=object)"
      ]
     },
     "execution_count": 73,
     "metadata": {},
     "output_type": "execute_result"
    }
   ],
   "source": [
    "(unique, counts) = np.unique(preds, return_counts=True)\n",
    "np.asarray((unique, counts)).T"
   ]
  },
  {
   "cell_type": "markdown",
   "metadata": {},
   "source": [
    "## Actual"
   ]
  },
  {
   "cell_type": "code",
   "execution_count": 74,
   "metadata": {},
   "outputs": [
    {
     "data": {
      "text/plain": [
       "array([['blues', 63],\n",
       "       ['broadway', 41],\n",
       "       ['classical', 118],\n",
       "       ['country', 141],\n",
       "       ['dance', 64],\n",
       "       ['folk music', 82],\n",
       "       ['funk', 49],\n",
       "       ['gospel', 33],\n",
       "       ['hip hop', 177],\n",
       "       ['house', 45],\n",
       "       ['indie', 70],\n",
       "       ['jazz', 153],\n",
       "       ['latin', 50],\n",
       "       ['metal', 111],\n",
       "       ['orchestra', 46],\n",
       "       ['piano', 37],\n",
       "       ['pop', 547],\n",
       "       ['punk', 43],\n",
       "       ['r&b', 41],\n",
       "       ['rap', 170],\n",
       "       ['rock', 380],\n",
       "       ['show tunes', 27],\n",
       "       ['soul', 69],\n",
       "       ['trap', 38]], dtype=object)"
      ]
     },
     "execution_count": 74,
     "metadata": {},
     "output_type": "execute_result"
    }
   ],
   "source": [
    "(unique, counts) = np.unique(y_test, return_counts=True)\n",
    "np.asarray((unique, counts)).T"
   ]
  },
  {
   "cell_type": "code",
   "execution_count": null,
   "metadata": {},
   "outputs": [],
   "source": []
  }
 ],
 "metadata": {
  "kernelspec": {
   "display_name": "Python 3",
   "language": "python",
   "name": "python3"
  },
  "language_info": {
   "codemirror_mode": {
    "name": "ipython",
    "version": 3
   },
   "file_extension": ".py",
   "mimetype": "text/x-python",
   "name": "python",
   "nbconvert_exporter": "python",
   "pygments_lexer": "ipython3",
   "version": "3.8.6"
  }
 },
 "nbformat": 4,
 "nbformat_minor": 4
}
