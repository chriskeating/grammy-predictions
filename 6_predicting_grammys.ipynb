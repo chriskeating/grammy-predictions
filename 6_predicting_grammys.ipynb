{
 "cells": [
  {
   "cell_type": "markdown",
   "metadata": {},
   "source": [
    "# This section is a Work in Progress"
   ]
  },
  {
   "cell_type": "code",
   "execution_count": 5,
   "metadata": {},
   "outputs": [],
   "source": [
    "import pandas as pd\n",
    "import requests\n",
    "from bs4 import BeautifulSoup\n",
    "import plotly.express as px\n",
    "import urllib\n",
    "import os\n",
    "\n",
    "df = pd.read_csv('grammy_winners.csv')"
   ]
  },
  {
   "cell_type": "code",
   "execution_count": 6,
   "metadata": {},
   "outputs": [],
   "source": [
    "r = requests.get('https://timelines.latimes.com/grammy-awards/')\n",
    "years = []\n",
    "songs = []\n",
    "records = []\n",
    "for year in range(2018, 1959, -1):\n",
    "    years.append(year)\n",
    "soupy = BeautifulSoup(r.text).find_all(attrs={'class': 'tlog-item-description'})\n",
    "for num in range(0, len(soupy)):\n",
    "    top_song = str(soupy[num]).split('</b>')[3].split('<b>')[0].replace('<span class=\"amp\">&amp;</span> ', 'and ')[2:-5]\n",
    "    top_record = str(soupy[num]).split('</b>')[1].split('<b>')[0].replace('<span class=\"amp\">&amp;</span> ', 'and ')[2:-5]\n",
    "    songs.append(top_song)\n",
    "    records.append(top_record)\n",
    "df = pd.DataFrame([years, songs, records]).T\n",
    "df.rename(columns={0: 'year', 1:'top_song', 2:'top_record'}, inplace=True)\n",
    "df"
   ]
  },
  {
   "cell_type": "code",
   "execution_count": 7,
   "metadata": {},
   "outputs": [],
   "source": [
    "df.to_csv(r'grammy_winners.csv')"
   ]
  },
  {
   "cell_type": "code",
   "execution_count": 8,
   "metadata": {},
   "outputs": [],
   "source": [
    "soup = BeautifulSoup(requests.get('https://www.grammy.com/grammys/awards/61st-annual-grammy-awards-2018').text)\n",
    "table = soup.find(attrs={'class': 'view-grouping-content'})\n",
    "songs = [song.text for song in table.find_all(attrs={'class': 'views-field-title'})]\n",
    "names = [name.text.replace('\\n', '') for name in table.find_all(attrs={'class': 'views-field-field-description'})]\n",
    "\n",
    "entry = str(BeautifulSoup(r.text).find_all(attrs={'class': 'tlog-item-description'})[1].find_all('p')[1]).split('<br/>')[2].split('>')[2][2:].split(',')\n",
    "title = entry[0]\n",
    "artist = entry[1][2:]\n",
    "writer = entry[2].split('(')[1][0:-1]\n",
    "print('title:', title, '\\nartist:', artist, '\\nwriter:', writer)\n",
    "\n",
    "entry = BeautifulSoup(r.text).find_all(attrs={'class': 'tlog-item-description'})[0]\n",
    "# .find_all('p')[1]).split('<br/>')[2].split('>')[2][2:].split(',')\n",
    "title = entry[0]\n",
    "artist = entry[1][2:]\n",
    "writer = entry[2].split('(')[1][0:-1]\n",
    "print('title:', title, '\\nartist:', artist, '\\nwriter:', writer)"
   ]
  },
  {
   "cell_type": "code",
   "execution_count": 14,
   "metadata": {},
   "outputs": [],
   "source": [
    "import spotipy\n",
    "from spotipy.oauth2 import SpotifyClientCredentials\n",
    "sp = spotipy.Spotify(auth_manager=SpotifyClientCredentials(client_id=os.environ[\"SPOTIPY_CLIENT_ID\"], client_secret=os.environ[\"SPOTIPY_CLIENT_SECRET\"]))\n",
    "\n",
    "results = sp.search(q='Hello,” Adele', limit=2)\n",
    "# for track in results:\n",
    "#     print(track)"
   ]
  },
  {
   "cell_type": "code",
   "execution_count": 22,
   "metadata": {},
   "outputs": [
    {
     "data": {
      "text/plain": [
       "'62PaSfnXSMyLshYJrlTuL3'"
      ]
     },
     "execution_count": 22,
     "metadata": {},
     "output_type": "execute_result"
    }
   ],
   "source": [
    "results['tracks']['items'][0]['id']"
   ]
  },
  {
   "cell_type": "code",
   "execution_count": 28,
   "metadata": {},
   "outputs": [
    {
     "data": {
      "text/plain": [
       "'Thinking Out Loud'"
      ]
     },
     "execution_count": 28,
     "metadata": {},
     "output_type": "execute_result"
    }
   ],
   "source": [
    "df['top_song'][0].split(',')[0]"
   ]
  },
  {
   "cell_type": "code",
   "execution_count": 29,
   "metadata": {},
   "outputs": [
    {
     "data": {
      "text/plain": [
       "'query=Thinking+Out+Loud&offset=0&limit=1&type=track'"
      ]
     },
     "execution_count": 29,
     "metadata": {},
     "output_type": "execute_result"
    }
   ],
   "source": [
    "urllib.parse.urlencode({'query': df['top_song'][0].split(',')[0], 'offset': 0, 'limit': 1, 'type': 'track'})"
   ]
  },
  {
   "cell_type": "code",
   "execution_count": null,
   "metadata": {},
   "outputs": [],
   "source": [
    "get_genius_api_results = False # MARK AS FALSE UNLESS YOU WANT TO MAKE 10k API CALLS\n",
    "\n",
    "if get_genius_api_results:\n",
    "    \n",
    "    print('GETTING API RESULTS - INTERRUPT KERNEL IF THIS IS NOT INTENDED')\n",
    "    \n",
    "    # Create a dataframe in which we will pass API results\n",
    "    df_genius_api = pd.DataFrame(columns=['search_term', 'annotation_count', 'full_title', 'pyongs_count', 'stats_unreviewed_annotations', 'stats_hot', 'song_url', 'primary_artist'])\n",
    "    \n",
    "    # Create a function to get data from the Genius API, such as user interaction like views, annotations\n",
    "    for search_term in df['title_artist_search_term'][0:10000]:\n",
    "        url = f\"https://api.genius.com/search?q={search_term}\"\n",
    "        payload={}\n",
    "        headers = {\n",
    "          'Authorization': f'Bearer {os.environ.get(\"SPOTIFY_API_TOKEN_V2\")}',\n",
    "          'Cookie': os.environ.get(\"SPOTIFY_API_COOKIE\")\n",
    "        }\n",
    "        response = requests.request(\"GET\", url, headers=headers, data=payload)\n",
    "        result_big = json.loads(response.text)['response']['hits']\n",
    "        if len(result_big) > 0:\n",
    "            result = result_big[0]['result']\n",
    "            arr = {'search_term': search_term, 'annotation_count': result['annotation_count'], 'full_title': result['full_title'], 'pyongs_count': result['pyongs_count'], 'stats_unreviewed_annotations': result['stats']['unreviewed_annotations'], 'stats_hot': result['stats']['hot'], 'song_url': result['url'], 'primary_artist': result['primary_artist']['name']}\n",
    "            df_genius_api = df_genius_api.append(arr, ignore_index=True)\n",
    "        else:\n",
    "            arr = {'search_term': search_term, 'annotation_count': 'n/a', 'full_title': 'n/a', 'pyongs_count': 'n/a', 'stats_unreviewed_annotations': 'n/a', 'stats_hot': 'n/a', 'song_url': 'n/a', 'primary_artist': 'n/a'}\n",
    "            df_genius_api = df_genius_api.append(arr, ignore_index=True)\n",
    "        time.sleep(.5)\n",
    "        \n",
    "    df_genius_api.to_csv(r'genius_api_results.csv')\n",
    "else:\n",
    "    print('Reading in df from csv')\n",
    "    df_genius_api = pd.read_csv('genius_api_results.csv')\n",
    "print('done')"
   ]
  },
  {
   "cell_type": "code",
   "execution_count": 46,
   "metadata": {},
   "outputs": [
    {
     "data": {
      "text/plain": [
       "'Hello,” Adele'"
      ]
     },
     "execution_count": 46,
     "metadata": {},
     "output_type": "execute_result"
    }
   ],
   "source": [
    "df['top_record'][0].replace('/\"', '-')"
   ]
  },
  {
   "cell_type": "code",
   "execution_count": 31,
   "metadata": {},
   "outputs": [
    {
     "name": "stdout",
     "output_type": "stream",
     "text": [
      "{\n",
      "  \"tracks\" : {\n",
      "    \"href\" : \"https://api.spotify.com/v1/search?query=Thinking+Out+Loud&type=track&offset=0&limit=1\",\n",
      "    \"items\" : [ {\n",
      "      \"album\" : {\n",
      "        \"album_type\" : \"album\",\n",
      "        \"artists\" : [ {\n",
      "          \"external_urls\" : {\n",
      "            \"spotify\" : \"https://open.spotify.com/artist/6eUKZXaKkcviH0Ku9w2n3V\"\n",
      "          },\n",
      "          \"href\" : \"https://api.spotify.com/v1/artists/6eUKZXaKkcviH0Ku9w2n3V\",\n",
      "          \"id\" : \"6eUKZXaKkcviH0Ku9w2n3V\",\n",
      "          \"name\" : \"Ed Sheeran\",\n",
      "          \"type\" : \"artist\",\n",
      "          \"uri\" : \"spotify:artist:6eUKZXaKkcviH0Ku9w2n3V\"\n",
      "        } ],\n",
      "        \"available_markets\" : [ \"AE\", \"AL\", \"AR\", \"AT\", \"AU\", \"BA\", \"BE\", \"BG\", \"BH\", \"BO\", \"BR\", \"BY\", \"CA\", \"CH\", \"CL\", \"CO\", \"CR\", \"CY\", \"CZ\", \"DE\", \"DK\", \"DO\", \"DZ\", \"EC\", \"EE\", \"EG\", \"ES\", \"FI\", \"FR\", \"GB\", \"GR\", \"GT\", \"HK\", \"HN\", \"HR\", \"HU\", \"ID\", \"IE\", \"IL\", \"IN\", \"IT\", \"JO\", \"JP\", \"KR\", \"KW\", \"KZ\", \"LB\", \"LT\", \"LU\", \"LV\", \"MA\", \"MD\", \"ME\", \"MK\", \"MT\", \"MX\", \"MY\", \"NI\", \"NL\", \"NO\", \"NZ\", \"OM\", \"PA\", \"PE\", \"PH\", \"PL\", \"PT\", \"PY\", \"QA\", \"RO\", \"RS\", \"RU\", \"SA\", \"SE\", \"SG\", \"SI\", \"SK\", \"SV\", \"TH\", \"TN\", \"TR\", \"TW\", \"UA\", \"US\", \"UY\", \"VN\", \"XK\", \"ZA\" ],\n",
      "        \"external_urls\" : {\n",
      "          \"spotify\" : \"https://open.spotify.com/album/1xn54DMo2qIqBuMqHtUsFd\"\n",
      "        },\n",
      "        \"href\" : \"https://api.spotify.com/v1/albums/1xn54DMo2qIqBuMqHtUsFd\",\n",
      "        \"id\" : \"1xn54DMo2qIqBuMqHtUsFd\",\n",
      "        \"images\" : [ {\n",
      "          \"height\" : 640,\n",
      "          \"url\" : \"https://i.scdn.co/image/ab67616d0000b27313b3e37318a0c247b550bccd\",\n",
      "          \"width\" : 640\n",
      "        }, {\n",
      "          \"height\" : 300,\n",
      "          \"url\" : \"https://i.scdn.co/image/ab67616d00001e0213b3e37318a0c247b550bccd\",\n",
      "          \"width\" : 300\n",
      "        }, {\n",
      "          \"height\" : 64,\n",
      "          \"url\" : \"https://i.scdn.co/image/ab67616d0000485113b3e37318a0c247b550bccd\",\n",
      "          \"width\" : 64\n",
      "        } ],\n",
      "        \"name\" : \"x (Deluxe Edition)\",\n",
      "        \"release_date\" : \"2014-06-21\",\n",
      "        \"release_date_precision\" : \"day\",\n",
      "        \"total_tracks\" : 16,\n",
      "        \"type\" : \"album\",\n",
      "        \"uri\" : \"spotify:album:1xn54DMo2qIqBuMqHtUsFd\"\n",
      "      },\n",
      "      \"artists\" : [ {\n",
      "        \"external_urls\" : {\n",
      "          \"spotify\" : \"https://open.spotify.com/artist/6eUKZXaKkcviH0Ku9w2n3V\"\n",
      "        },\n",
      "        \"href\" : \"https://api.spotify.com/v1/artists/6eUKZXaKkcviH0Ku9w2n3V\",\n",
      "        \"id\" : \"6eUKZXaKkcviH0Ku9w2n3V\",\n",
      "        \"name\" : \"Ed Sheeran\",\n",
      "        \"type\" : \"artist\",\n",
      "        \"uri\" : \"spotify:artist:6eUKZXaKkcviH0Ku9w2n3V\"\n",
      "      } ],\n",
      "      \"available_markets\" : [ \"AE\", \"AL\", \"AR\", \"AT\", \"AU\", \"BA\", \"BE\", \"BG\", \"BH\", \"BO\", \"BR\", \"BY\", \"CA\", \"CH\", \"CL\", \"CO\", \"CR\", \"CY\", \"CZ\", \"DE\", \"DK\", \"DO\", \"DZ\", \"EC\", \"EE\", \"EG\", \"ES\", \"FI\", \"FR\", \"GB\", \"GR\", \"GT\", \"HK\", \"HN\", \"HR\", \"HU\", \"ID\", \"IE\", \"IL\", \"IN\", \"IT\", \"JO\", \"JP\", \"KR\", \"KW\", \"KZ\", \"LB\", \"LT\", \"LU\", \"LV\", \"MA\", \"MD\", \"ME\", \"MK\", \"MT\", \"MX\", \"MY\", \"NI\", \"NL\", \"NO\", \"NZ\", \"OM\", \"PA\", \"PE\", \"PH\", \"PL\", \"PT\", \"PY\", \"QA\", \"RO\", \"RS\", \"RU\", \"SA\", \"SE\", \"SG\", \"SI\", \"SK\", \"SV\", \"TH\", \"TN\", \"TR\", \"TW\", \"UA\", \"US\", \"UY\", \"VN\", \"XK\", \"ZA\" ],\n",
      "      \"disc_number\" : 1,\n",
      "      \"duration_ms\" : 281560,\n",
      "      \"explicit\" : false,\n",
      "      \"external_ids\" : {\n",
      "        \"isrc\" : \"GBAHS1400099\"\n",
      "      },\n",
      "      \"external_urls\" : {\n",
      "        \"spotify\" : \"https://open.spotify.com/track/34gCuhDGsG4bRPIf9bb02f\"\n",
      "      },\n",
      "      \"href\" : \"https://api.spotify.com/v1/tracks/34gCuhDGsG4bRPIf9bb02f\",\n",
      "      \"id\" : \"34gCuhDGsG4bRPIf9bb02f\",\n",
      "      \"is_local\" : false,\n",
      "      \"name\" : \"Thinking out Loud\",\n",
      "      \"popularity\" : 82,\n",
      "      \"preview_url\" : \"https://p.scdn.co/mp3-preview/7fba47d0806142cb34ad2080a5f139eba915fe05?cid=ab0a7019ef234f85b7d756d87427d810\",\n",
      "      \"track_number\" : 11,\n",
      "      \"type\" : \"track\",\n",
      "      \"uri\" : \"spotify:track:34gCuhDGsG4bRPIf9bb02f\"\n",
      "    } ],\n",
      "    \"limit\" : 1,\n",
      "    \"next\" : \"https://api.spotify.com/v1/search?query=Thinking+Out+Loud&type=track&offset=1&limit=1\",\n",
      "    \"offset\" : 0,\n",
      "    \"previous\" : null,\n",
      "    \"total\" : 4553\n",
      "  }\n",
      "}\n"
     ]
    }
   ],
   "source": [
    "import requests\n",
    "url = \"https://api.spotify.com/v1/search?query=Thinking+Out+Loud&offset=0&limit=1&type=track\"\n",
    "payload={}\n",
    "headers = {\n",
    "\n",
    "}\n",
    "response = requests.request(\"GET\", url, headers=headers, data=payload)\n",
    "print(response.text)"
   ]
  }
 ],
 "metadata": {
  "kernelspec": {
   "display_name": "Python 3",
   "language": "python",
   "name": "python3"
  },
  "language_info": {
   "codemirror_mode": {
    "name": "ipython",
    "version": 3
   },
   "file_extension": ".py",
   "mimetype": "text/x-python",
   "name": "python",
   "nbconvert_exporter": "python",
   "pygments_lexer": "ipython3",
   "version": "3.8.6"
  }
 },
 "nbformat": 4,
 "nbformat_minor": 4
}
