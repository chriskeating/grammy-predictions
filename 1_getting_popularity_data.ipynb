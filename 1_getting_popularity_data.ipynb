{
 "cells": [
  {
   "cell_type": "markdown",
   "metadata": {},
   "source": [
    "## Import packages and data"
   ]
  },
  {
   "cell_type": "code",
   "execution_count": 1,
   "metadata": {},
   "outputs": [
    {
     "data": {
      "text/html": [
       "<div>\n",
       "<style scoped>\n",
       "    .dataframe tbody tr th:only-of-type {\n",
       "        vertical-align: middle;\n",
       "    }\n",
       "\n",
       "    .dataframe tbody tr th {\n",
       "        vertical-align: top;\n",
       "    }\n",
       "\n",
       "    .dataframe thead th {\n",
       "        text-align: right;\n",
       "    }\n",
       "</style>\n",
       "<table border=\"1\" class=\"dataframe\">\n",
       "  <thead>\n",
       "    <tr style=\"text-align: right;\">\n",
       "      <th></th>\n",
       "      <th>valence</th>\n",
       "      <th>year</th>\n",
       "      <th>acousticness</th>\n",
       "      <th>artists</th>\n",
       "      <th>danceability</th>\n",
       "      <th>duration_ms</th>\n",
       "      <th>energy</th>\n",
       "      <th>explicit</th>\n",
       "      <th>id</th>\n",
       "      <th>instrumentalness</th>\n",
       "      <th>key</th>\n",
       "      <th>liveness</th>\n",
       "      <th>loudness</th>\n",
       "      <th>mode</th>\n",
       "      <th>name</th>\n",
       "      <th>popularity</th>\n",
       "      <th>release_date</th>\n",
       "      <th>speechiness</th>\n",
       "      <th>tempo</th>\n",
       "    </tr>\n",
       "  </thead>\n",
       "  <tbody>\n",
       "    <tr>\n",
       "      <th>0</th>\n",
       "      <td>0.0594</td>\n",
       "      <td>1921</td>\n",
       "      <td>0.982</td>\n",
       "      <td>['Sergei Rachmaninoff', 'James Levine', 'Berli...</td>\n",
       "      <td>0.279</td>\n",
       "      <td>831667</td>\n",
       "      <td>0.211</td>\n",
       "      <td>0</td>\n",
       "      <td>4BJqT0PrAfrxzMOxytFOIz</td>\n",
       "      <td>0.878000</td>\n",
       "      <td>10</td>\n",
       "      <td>0.665</td>\n",
       "      <td>-20.096</td>\n",
       "      <td>1</td>\n",
       "      <td>Piano Concerto No. 3 in D Minor, Op. 30: III. ...</td>\n",
       "      <td>4</td>\n",
       "      <td>1921</td>\n",
       "      <td>0.0366</td>\n",
       "      <td>80.954</td>\n",
       "    </tr>\n",
       "    <tr>\n",
       "      <th>1</th>\n",
       "      <td>0.9630</td>\n",
       "      <td>1921</td>\n",
       "      <td>0.732</td>\n",
       "      <td>['Dennis Day']</td>\n",
       "      <td>0.819</td>\n",
       "      <td>180533</td>\n",
       "      <td>0.341</td>\n",
       "      <td>0</td>\n",
       "      <td>7xPhfUan2yNtyFG0cUWkt8</td>\n",
       "      <td>0.000000</td>\n",
       "      <td>7</td>\n",
       "      <td>0.160</td>\n",
       "      <td>-12.441</td>\n",
       "      <td>1</td>\n",
       "      <td>Clancy Lowered the Boom</td>\n",
       "      <td>5</td>\n",
       "      <td>1921</td>\n",
       "      <td>0.4150</td>\n",
       "      <td>60.936</td>\n",
       "    </tr>\n",
       "    <tr>\n",
       "      <th>2</th>\n",
       "      <td>0.0394</td>\n",
       "      <td>1921</td>\n",
       "      <td>0.961</td>\n",
       "      <td>['KHP Kridhamardawa Karaton Ngayogyakarta Hadi...</td>\n",
       "      <td>0.328</td>\n",
       "      <td>500062</td>\n",
       "      <td>0.166</td>\n",
       "      <td>0</td>\n",
       "      <td>1o6I8BglA6ylDMrIELygv1</td>\n",
       "      <td>0.913000</td>\n",
       "      <td>3</td>\n",
       "      <td>0.101</td>\n",
       "      <td>-14.850</td>\n",
       "      <td>1</td>\n",
       "      <td>Gati Bali</td>\n",
       "      <td>5</td>\n",
       "      <td>1921</td>\n",
       "      <td>0.0339</td>\n",
       "      <td>110.339</td>\n",
       "    </tr>\n",
       "    <tr>\n",
       "      <th>3</th>\n",
       "      <td>0.1650</td>\n",
       "      <td>1921</td>\n",
       "      <td>0.967</td>\n",
       "      <td>['Frank Parker']</td>\n",
       "      <td>0.275</td>\n",
       "      <td>210000</td>\n",
       "      <td>0.309</td>\n",
       "      <td>0</td>\n",
       "      <td>3ftBPsC5vPBKxYSee08FDH</td>\n",
       "      <td>0.000028</td>\n",
       "      <td>5</td>\n",
       "      <td>0.381</td>\n",
       "      <td>-9.316</td>\n",
       "      <td>1</td>\n",
       "      <td>Danny Boy</td>\n",
       "      <td>3</td>\n",
       "      <td>1921</td>\n",
       "      <td>0.0354</td>\n",
       "      <td>100.109</td>\n",
       "    </tr>\n",
       "    <tr>\n",
       "      <th>4</th>\n",
       "      <td>0.2530</td>\n",
       "      <td>1921</td>\n",
       "      <td>0.957</td>\n",
       "      <td>['Phil Regan']</td>\n",
       "      <td>0.418</td>\n",
       "      <td>166693</td>\n",
       "      <td>0.193</td>\n",
       "      <td>0</td>\n",
       "      <td>4d6HGyGT8e121BsdKmw9v6</td>\n",
       "      <td>0.000002</td>\n",
       "      <td>3</td>\n",
       "      <td>0.229</td>\n",
       "      <td>-10.096</td>\n",
       "      <td>1</td>\n",
       "      <td>When Irish Eyes Are Smiling</td>\n",
       "      <td>2</td>\n",
       "      <td>1921</td>\n",
       "      <td>0.0380</td>\n",
       "      <td>101.665</td>\n",
       "    </tr>\n",
       "  </tbody>\n",
       "</table>\n",
       "</div>"
      ],
      "text/plain": [
       "   valence  year  acousticness  \\\n",
       "0   0.0594  1921         0.982   \n",
       "1   0.9630  1921         0.732   \n",
       "2   0.0394  1921         0.961   \n",
       "3   0.1650  1921         0.967   \n",
       "4   0.2530  1921         0.957   \n",
       "\n",
       "                                             artists  danceability  \\\n",
       "0  ['Sergei Rachmaninoff', 'James Levine', 'Berli...         0.279   \n",
       "1                                     ['Dennis Day']         0.819   \n",
       "2  ['KHP Kridhamardawa Karaton Ngayogyakarta Hadi...         0.328   \n",
       "3                                   ['Frank Parker']         0.275   \n",
       "4                                     ['Phil Regan']         0.418   \n",
       "\n",
       "   duration_ms  energy  explicit                      id  instrumentalness  \\\n",
       "0       831667   0.211         0  4BJqT0PrAfrxzMOxytFOIz          0.878000   \n",
       "1       180533   0.341         0  7xPhfUan2yNtyFG0cUWkt8          0.000000   \n",
       "2       500062   0.166         0  1o6I8BglA6ylDMrIELygv1          0.913000   \n",
       "3       210000   0.309         0  3ftBPsC5vPBKxYSee08FDH          0.000028   \n",
       "4       166693   0.193         0  4d6HGyGT8e121BsdKmw9v6          0.000002   \n",
       "\n",
       "   key  liveness  loudness  mode  \\\n",
       "0   10     0.665   -20.096     1   \n",
       "1    7     0.160   -12.441     1   \n",
       "2    3     0.101   -14.850     1   \n",
       "3    5     0.381    -9.316     1   \n",
       "4    3     0.229   -10.096     1   \n",
       "\n",
       "                                                name  popularity release_date  \\\n",
       "0  Piano Concerto No. 3 in D Minor, Op. 30: III. ...           4         1921   \n",
       "1                            Clancy Lowered the Boom           5         1921   \n",
       "2                                          Gati Bali           5         1921   \n",
       "3                                          Danny Boy           3         1921   \n",
       "4                        When Irish Eyes Are Smiling           2         1921   \n",
       "\n",
       "   speechiness    tempo  \n",
       "0       0.0366   80.954  \n",
       "1       0.4150   60.936  \n",
       "2       0.0339  110.339  \n",
       "3       0.0354  100.109  \n",
       "4       0.0380  101.665  "
      ]
     },
     "execution_count": 1,
     "metadata": {},
     "output_type": "execute_result"
    }
   ],
   "source": [
    "import pandas as pd\n",
    "import numpy as np\n",
    "import matplotlib.pyplot as plt\n",
    "import seaborn as sns\n",
    "import ast\n",
    "import plotly.express as px\n",
    "import requests\n",
    "import json\n",
    "from bs4 import BeautifulSoup\n",
    "import time\n",
    "import os\n",
    "\n",
    "df = pd.read_csv('data.csv')\n",
    "df = df[df['popularity'] != 0]\n",
    "df.head()"
   ]
  },
  {
   "cell_type": "markdown",
   "metadata": {},
   "source": [
    "## Looking at and cleaning the data"
   ]
  },
  {
   "cell_type": "code",
   "execution_count": 18,
   "metadata": {},
   "outputs": [
    {
     "data": {
      "text/plain": [
       "White Christmas                                70\n",
       "Winter Wonderland                              59\n",
       "Jingle Bells                                   52\n",
       "Summertime                                     52\n",
       "Silent Night                                   43\n",
       "                                               ..\n",
       "Take Me Back To My Boots And Saddles            1\n",
       "Cosmic Rays                                     1\n",
       "99 Red Balloons - Club Mix                      1\n",
       "What Is This Thing Called Love - Remastered     1\n",
       "Stan - Live At 43rd Grammy Awards               1\n",
       "Name: name, Length: 109268, dtype: int64"
      ]
     },
     "execution_count": 18,
     "metadata": {},
     "output_type": "execute_result"
    }
   ],
   "source": [
    "df['name'].value_counts()"
   ]
  },
  {
   "cell_type": "code",
   "execution_count": 19,
   "metadata": {},
   "outputs": [],
   "source": [
    "# People can't get enough holiday music!"
   ]
  },
  {
   "cell_type": "code",
   "execution_count": 22,
   "metadata": {},
   "outputs": [],
   "source": [
    "df['primary_artist'] = df['artists'].apply(lambda x: ast.literal_eval(x)[0])\n",
    "df['title_artist'] = df['name'] + ' ' + df['primary_artist']\n",
    "df['title_artist_search_term'] = ['%20'.join(search.split(' ')) for search in df['title_artist']]\n",
    "df = df.sort_values(by='popularity', ascending=False)"
   ]
  },
  {
   "cell_type": "markdown",
   "metadata": {},
   "source": [
    "## Build a quick Linear Regression to see how we can get started on modeling popularity"
   ]
  },
  {
   "cell_type": "code",
   "execution_count": 6,
   "metadata": {},
   "outputs": [
    {
     "data": {
      "text/plain": [
       "Index(['valence', 'year', 'acousticness', 'artists', 'danceability',\n",
       "       'duration_ms', 'energy', 'explicit', 'id', 'instrumentalness', 'key',\n",
       "       'liveness', 'loudness', 'mode', 'name', 'popularity', 'release_date',\n",
       "       'speechiness', 'tempo', 'primary_artist', 'title_artist',\n",
       "       'title_artist_search_term'],\n",
       "      dtype='object')"
      ]
     },
     "execution_count": 6,
     "metadata": {},
     "output_type": "execute_result"
    }
   ],
   "source": [
    "df.columns"
   ]
  },
  {
   "cell_type": "code",
   "execution_count": 7,
   "metadata": {},
   "outputs": [],
   "source": [
    "from sklearn.model_selection import train_test_split\n",
    "X = df[['valence', 'acousticness', 'danceability', 'energy', 'instrumentalness', 'key', 'liveness', 'loudness', 'mode', 'speechiness', 'tempo']]\n",
    "y = df['popularity']\n",
    "X_train, X_test, y_train, y_test = train_test_split(X, y)"
   ]
  },
  {
   "cell_type": "code",
   "execution_count": 8,
   "metadata": {},
   "outputs": [
    {
     "data": {
      "text/plain": [
       "0.3150535842087152"
      ]
     },
     "execution_count": 8,
     "metadata": {},
     "output_type": "execute_result"
    }
   ],
   "source": [
    "from sklearn.linear_model import LinearRegression\n",
    "lr = LinearRegression()\n",
    "lr.fit(X_train, y_train)\n",
    "lr.score(X_test, y_test)"
   ]
  },
  {
   "cell_type": "code",
   "execution_count": 9,
   "metadata": {},
   "outputs": [],
   "source": [
    "from sklearn.preprocessing import StandardScaler\n",
    "ss = StandardScaler()\n",
    "X_train_scaled = ss.fit_transform(X_train, y_train)\n",
    "X_test_scaled = ss.transform(X_test)"
   ]
  },
  {
   "cell_type": "code",
   "execution_count": 10,
   "metadata": {},
   "outputs": [
    {
     "data": {
      "text/plain": [
       "0.3150535842087152"
      ]
     },
     "execution_count": 10,
     "metadata": {},
     "output_type": "execute_result"
    }
   ],
   "source": [
    "lr = LinearRegression()\n",
    "lr.fit(X_train_scaled, y_train)\n",
    "lr.score(X_test_scaled, y_test)"
   ]
  },
  {
   "cell_type": "code",
   "execution_count": 11,
   "metadata": {},
   "outputs": [],
   "source": [
    "from sklearn.preprocessing import PolynomialFeatures\n",
    "pf = PolynomialFeatures()\n",
    "X_train_exp = pf.fit_transform(X_train, y_train)\n",
    "X_test_exp = pf.transform(X_test)"
   ]
  },
  {
   "cell_type": "code",
   "execution_count": 12,
   "metadata": {},
   "outputs": [
    {
     "data": {
      "text/plain": [
       "0.39742710135526993"
      ]
     },
     "execution_count": 12,
     "metadata": {},
     "output_type": "execute_result"
    }
   ],
   "source": [
    "lr = LinearRegression()\n",
    "lr.fit(X_train_exp, y_train)\n",
    "lr.score(X_test_exp, y_test)"
   ]
  },
  {
   "cell_type": "markdown",
   "metadata": {},
   "source": [
    "## This data is interesting, but we don't just want to look at the popularity provided by Spotify. It would also be good to bring in some data from other sources - Genius.com will be a great source.\n",
    "\n",
    "### Genius is a website that provides the backstory behind music lyrics, and the best part is that all of the information is crowdsourced! Passionate fans add the story for the lyrics of their favorite songs, so this will give us a great sense of people who are the most passionate about a given song!"
   ]
  },
  {
   "cell_type": "markdown",
   "metadata": {},
   "source": [
    "## Get search results from Genius API"
   ]
  },
  {
   "cell_type": "code",
   "execution_count": 13,
   "metadata": {},
   "outputs": [
    {
     "name": "stdout",
     "output_type": "stream",
     "text": [
      "Reading in df from csv\n",
      "done\n"
     ]
    }
   ],
   "source": [
    "get_genius_api_results = False # MARK AS FALSE UNLESS YOU WANT TO MAKE 10k API CALLS\n",
    "\n",
    "if get_genius_api_results:\n",
    "    \n",
    "    print('GETTING API RESULTS - INTERRUPT KERNEL IF THIS IS NOT INTENDED')\n",
    "    \n",
    "    # Create a dataframe in which we will pass API results\n",
    "    df_genius_api = pd.DataFrame(columns=['search_term', 'annotation_count', 'full_title', 'pyongs_count', 'stats_unreviewed_annotations', 'stats_hot', 'song_url', 'primary_artist'])\n",
    "    \n",
    "    # Create a function to get data from the Genius API, such as user interaction like views, annotations\n",
    "    for search_term in df['title_artist_search_term'][0:10000]:\n",
    "        url = f\"https://api.genius.com/search?q={search_term}\"\n",
    "        payload={}\n",
    "        headers = {\n",
    "          'Authorization': f'Bearer {os.environ.get(\"SPOTIFY_API_TOKEN_V2\")}',\n",
    "          'Cookie': os.environ.get(\"SPOTIFY_API_COOKIE\")\n",
    "        }\n",
    "        response = requests.request(\"GET\", url, headers=headers, data=payload)\n",
    "        result_big = json.loads(response.text)['response']['hits']\n",
    "        if len(result_big) > 0:\n",
    "            result = result_big[0]['result']\n",
    "            arr = {'search_term': search_term, 'annotation_count': result['annotation_count'], 'full_title': result['full_title'], 'pyongs_count': result['pyongs_count'], 'stats_unreviewed_annotations': result['stats']['unreviewed_annotations'], 'stats_hot': result['stats']['hot'], 'song_url': result['url'], 'primary_artist': result['primary_artist']['name']}\n",
    "            df_genius_api = df_genius_api.append(arr, ignore_index=True)\n",
    "        else:\n",
    "            arr = {'search_term': search_term, 'annotation_count': 'n/a', 'full_title': 'n/a', 'pyongs_count': 'n/a', 'stats_unreviewed_annotations': 'n/a', 'stats_hot': 'n/a', 'song_url': 'n/a', 'primary_artist': 'n/a'}\n",
    "            df_genius_api = df_genius_api.append(arr, ignore_index=True)\n",
    "        time.sleep(.5)\n",
    "        \n",
    "    df_genius_api.to_csv(r'genius_api_results.csv')\n",
    "else:\n",
    "    print('Reading in df from csv')\n",
    "    df_genius_api = pd.read_csv('genius_api_results.csv')\n",
    "print('done')"
   ]
  },
  {
   "cell_type": "markdown",
   "metadata": {},
   "source": [
    "## Webscraping lyrics from Genius.com"
   ]
  },
  {
   "cell_type": "code",
   "execution_count": 14,
   "metadata": {},
   "outputs": [],
   "source": [
    "def get_lyrics(url):\n",
    "    try:\n",
    "        r = requests.get(url)\n",
    "        soup = BeautifulSoup(r.text, 'lxml')\n",
    "        lyrics = soup.select_one('div[class^=\"lyrics\"]').find('p').getText()\n",
    "        lyrics = lyrics.replace(\"\\n\", \"\").replace(\"\\'\", \"\")\n",
    "        return lyrics\n",
    "    except:\n",
    "        return 'no lyrics available on Genius'"
   ]
  },
  {
   "cell_type": "code",
   "execution_count": 15,
   "metadata": {},
   "outputs": [],
   "source": [
    "scrape_genius_for_lyrics = False # MARK AS FALSE UNLESS YOU WANT TO WEBSCRAPE 10k WEBPAGES\n",
    "\n",
    "if scrape_genius_for_lyrics:\n",
    "    print('WEBSCRAPING - INTERRUPT KERNEL IF THIS IS NOT INTENDED')\n",
    "    df_genius_api['song_lyrics_text'] = df_genius_api['song_url'].apply(get_lyrics)\n",
    "    df_genius_api.to_csv(r'genius_api_and_lyrics.csv')\n",
    "\n",
    "df_genius = pd.read_csv('genius_api_and_lyrics.csv')"
   ]
  },
  {
   "cell_type": "markdown",
   "metadata": {},
   "source": [
    "## Merge original Spotify dataframe and Genius data (API and webscraped)"
   ]
  },
  {
   "cell_type": "code",
   "execution_count": 16,
   "metadata": {},
   "outputs": [],
   "source": [
    "df_merged = pd.merge(df, df_genius, how='inner', left_on='title_artist_search_term', right_on='search_term')\n",
    "pd.set_option('display.max_columns', None)\n",
    "df_merged = df_merged[['id', 'full_title', 'name', 'primary_artist_x',  'release_date', 'explicit', 'duration_ms', 'valence', 'acousticness', 'danceability', 'energy', 'instrumentalness', 'key','liveness', 'loudness', 'mode',  'speechiness', 'tempo',  'annotation_count', 'popularity', 'pyongs_count', 'stats_unreviewed_annotations','stats_hot', 'song_url', 'song_lyrics_text']]\n",
    "# dropping 'primary_artist_y', 'title_artist','title_artist_search_term', 'search_term',  'artists', 'year'\n",
    "df_all = df_merged.drop_duplicates(subset=['full_title'])\n",
    "df_all = df_all.reset_index(drop=True)\n",
    "df_all.to_csv(r'df_all.csv')\n",
    "df_all"
   ]
  },
  {
   "cell_type": "markdown",
   "metadata": {},
   "source": [
    "## Get most hummed songs list"
   ]
  },
  {
   "cell_type": "code",
   "execution_count": 118,
   "metadata": {},
   "outputs": [],
   "source": [
    "get_most_hummed_songs = False # MARK AS FALSE UNLESS YOU WANT TO WEBSCRAPE BILLBOARD.COM\n",
    "\n",
    "if get_most_hummed_songs:\n",
    "    from selenium import webdriver\n",
    "    DRIVER_PATH = '/usr/local/bin/chromedriver'\n",
    "    driver = webdriver.Chrome(executable_path=DRIVER_PATH)\n",
    "    driver.get('https://www.billboard.com/charts/year-end/top-hummed')\n",
    "    table = driver.find_element_by_xpath('//html/body/main/div/div/div[4]/div/ol')\n",
    "    table_text = table.text.split('\\n')\n",
    "\n",
    "    rank = []\n",
    "    title = []\n",
    "    artist = []\n",
    "\n",
    "    for num in range(0, len(table_text), 3):\n",
    "        rank.append(table_text[num])\n",
    "        title.append(table_text[num+1])\n",
    "        artist.append(table_text[num+2])\n",
    "\n",
    "    df_hummed_list = pd.DataFrame({'rank': rank, 'title': title, 'artist': artist}).set_index('rank')\n",
    "    df_hummed_list.to_csv(r'songs_hummed.csv')\n",
    "else:\n",
    "    df_hummed_list = pd.read_csv('songs_hummed.csv')\n",
    "df_hummed = pd.merge(df_all, df_hummed, how='inner', left_on='name', right_on='title').drop_duplicates()\n",
    "df_hummed.to_csv('songs_hummed.csv')"
   ]
  },
  {
   "cell_type": "markdown",
   "metadata": {},
   "source": [
    "## Now we have all of the data we need  - let's get to modeling popularity and then predicting the upcoming Grammy Awards"
   ]
  },
  {
   "cell_type": "code",
   "execution_count": null,
   "metadata": {},
   "outputs": [],
   "source": []
  }
 ],
 "metadata": {
  "kernelspec": {
   "display_name": "Python 3",
   "language": "python",
   "name": "python3"
  },
  "language_info": {
   "codemirror_mode": {
    "name": "ipython",
    "version": 3
   },
   "file_extension": ".py",
   "mimetype": "text/x-python",
   "name": "python",
   "nbconvert_exporter": "python",
   "pygments_lexer": "ipython3",
   "version": "3.8.6"
  }
 },
 "nbformat": 4,
 "nbformat_minor": 4
}
